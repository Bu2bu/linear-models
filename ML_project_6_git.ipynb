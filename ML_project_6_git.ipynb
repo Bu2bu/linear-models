{
 "cells": [
  {
   "cell_type": "code",
   "execution_count": 1,
   "id": "4839b27b-3540-4b10-98c4-a5a9a702b206",
   "metadata": {},
   "outputs": [],
   "source": [
    "import pandas as pd\n",
    "import numpy as np\n",
    "import matplotlib.pyplot as plt\n",
    "import seaborn as sns\n",
    "from sklearn.preprocessing import OneHotEncoder, StandardScaler\n",
    "from sklearn.linear_model import LinearRegression , LogisticRegression\n",
    "from sklearn.metrics import r2_score ,mean_squared_error,mean_absolute_error,accuracy_score,recall_score,precision_score,confusion_matrix\n",
    "from sklearn.model_selection import train_test_split "
   ]
  },
  {
   "cell_type": "markdown",
   "id": "ac0e1ce3-9181-4fc3-a97e-c9def65cfc69",
   "metadata": {},
   "source": [
    "<div style=\"background-color: #e6f7ff; padding: 10px; border-radius: 5px;\">\n",
    "<p>импортируем данные а так же разделим данные в столбцах с помощью sep\n",
    "</p>\n",
    "</div>    \n"
   ]
  },
  {
   "cell_type": "code",
   "execution_count": 22,
   "id": "bb340e5f-0939-41e2-b358-cc0b89082704",
   "metadata": {},
   "outputs": [
    {
     "ename": "FileNotFoundError",
     "evalue": "[Errno 2] No such file or directory: '/Users/Danila/Desktop/PROJECT_Linear_Models/ferma_main.csv'",
     "output_type": "error",
     "traceback": [
      "\u001b[0;31m---------------------------------------------------------------------------\u001b[0m",
      "\u001b[0;31mFileNotFoundError\u001b[0m                         Traceback (most recent call last)",
      "\u001b[0;32m/tmp/ipykernel_48/916454099.py\u001b[0m in \u001b[0;36m<module>\u001b[0;34m\u001b[0m\n\u001b[0;32m----> 1\u001b[0;31m \u001b[0mfm\u001b[0m \u001b[0;34m=\u001b[0m \u001b[0mpd\u001b[0m\u001b[0;34m.\u001b[0m\u001b[0mread_csv\u001b[0m\u001b[0;34m(\u001b[0m\u001b[0;34m'/Users/Danila/Desktop/PROJECT_Linear_Models/ferma_main.csv'\u001b[0m\u001b[0;34m,\u001b[0m \u001b[0msep\u001b[0m \u001b[0;34m=\u001b[0m \u001b[0;34m';'\u001b[0m\u001b[0;34m)\u001b[0m\u001b[0;34m\u001b[0m\u001b[0;34m\u001b[0m\u001b[0m\n\u001b[0m",
      "\u001b[0;32m/opt/conda/lib/python3.9/site-packages/pandas/io/parsers.py\u001b[0m in \u001b[0;36mread_csv\u001b[0;34m(filepath_or_buffer, sep, delimiter, header, names, index_col, usecols, squeeze, prefix, mangle_dupe_cols, dtype, engine, converters, true_values, false_values, skipinitialspace, skiprows, skipfooter, nrows, na_values, keep_default_na, na_filter, verbose, skip_blank_lines, parse_dates, infer_datetime_format, keep_date_col, date_parser, dayfirst, cache_dates, iterator, chunksize, compression, thousands, decimal, lineterminator, quotechar, quoting, doublequote, escapechar, comment, encoding, dialect, error_bad_lines, warn_bad_lines, delim_whitespace, low_memory, memory_map, float_precision, storage_options)\u001b[0m\n\u001b[1;32m    608\u001b[0m     \u001b[0mkwds\u001b[0m\u001b[0;34m.\u001b[0m\u001b[0mupdate\u001b[0m\u001b[0;34m(\u001b[0m\u001b[0mkwds_defaults\u001b[0m\u001b[0;34m)\u001b[0m\u001b[0;34m\u001b[0m\u001b[0;34m\u001b[0m\u001b[0m\n\u001b[1;32m    609\u001b[0m \u001b[0;34m\u001b[0m\u001b[0m\n\u001b[0;32m--> 610\u001b[0;31m     \u001b[0;32mreturn\u001b[0m \u001b[0m_read\u001b[0m\u001b[0;34m(\u001b[0m\u001b[0mfilepath_or_buffer\u001b[0m\u001b[0;34m,\u001b[0m \u001b[0mkwds\u001b[0m\u001b[0;34m)\u001b[0m\u001b[0;34m\u001b[0m\u001b[0;34m\u001b[0m\u001b[0m\n\u001b[0m\u001b[1;32m    611\u001b[0m \u001b[0;34m\u001b[0m\u001b[0m\n\u001b[1;32m    612\u001b[0m \u001b[0;34m\u001b[0m\u001b[0m\n",
      "\u001b[0;32m/opt/conda/lib/python3.9/site-packages/pandas/io/parsers.py\u001b[0m in \u001b[0;36m_read\u001b[0;34m(filepath_or_buffer, kwds)\u001b[0m\n\u001b[1;32m    460\u001b[0m \u001b[0;34m\u001b[0m\u001b[0m\n\u001b[1;32m    461\u001b[0m     \u001b[0;31m# Create the parser.\u001b[0m\u001b[0;34m\u001b[0m\u001b[0;34m\u001b[0m\u001b[0;34m\u001b[0m\u001b[0m\n\u001b[0;32m--> 462\u001b[0;31m     \u001b[0mparser\u001b[0m \u001b[0;34m=\u001b[0m \u001b[0mTextFileReader\u001b[0m\u001b[0;34m(\u001b[0m\u001b[0mfilepath_or_buffer\u001b[0m\u001b[0;34m,\u001b[0m \u001b[0;34m**\u001b[0m\u001b[0mkwds\u001b[0m\u001b[0;34m)\u001b[0m\u001b[0;34m\u001b[0m\u001b[0;34m\u001b[0m\u001b[0m\n\u001b[0m\u001b[1;32m    463\u001b[0m \u001b[0;34m\u001b[0m\u001b[0m\n\u001b[1;32m    464\u001b[0m     \u001b[0;32mif\u001b[0m \u001b[0mchunksize\u001b[0m \u001b[0;32mor\u001b[0m \u001b[0miterator\u001b[0m\u001b[0;34m:\u001b[0m\u001b[0;34m\u001b[0m\u001b[0;34m\u001b[0m\u001b[0m\n",
      "\u001b[0;32m/opt/conda/lib/python3.9/site-packages/pandas/io/parsers.py\u001b[0m in \u001b[0;36m__init__\u001b[0;34m(self, f, engine, **kwds)\u001b[0m\n\u001b[1;32m    817\u001b[0m             \u001b[0mself\u001b[0m\u001b[0;34m.\u001b[0m\u001b[0moptions\u001b[0m\u001b[0;34m[\u001b[0m\u001b[0;34m\"has_index_names\"\u001b[0m\u001b[0;34m]\u001b[0m \u001b[0;34m=\u001b[0m \u001b[0mkwds\u001b[0m\u001b[0;34m[\u001b[0m\u001b[0;34m\"has_index_names\"\u001b[0m\u001b[0;34m]\u001b[0m\u001b[0;34m\u001b[0m\u001b[0;34m\u001b[0m\u001b[0m\n\u001b[1;32m    818\u001b[0m \u001b[0;34m\u001b[0m\u001b[0m\n\u001b[0;32m--> 819\u001b[0;31m         \u001b[0mself\u001b[0m\u001b[0;34m.\u001b[0m\u001b[0m_engine\u001b[0m \u001b[0;34m=\u001b[0m \u001b[0mself\u001b[0m\u001b[0;34m.\u001b[0m\u001b[0m_make_engine\u001b[0m\u001b[0;34m(\u001b[0m\u001b[0mself\u001b[0m\u001b[0;34m.\u001b[0m\u001b[0mengine\u001b[0m\u001b[0;34m)\u001b[0m\u001b[0;34m\u001b[0m\u001b[0;34m\u001b[0m\u001b[0m\n\u001b[0m\u001b[1;32m    820\u001b[0m \u001b[0;34m\u001b[0m\u001b[0m\n\u001b[1;32m    821\u001b[0m     \u001b[0;32mdef\u001b[0m \u001b[0mclose\u001b[0m\u001b[0;34m(\u001b[0m\u001b[0mself\u001b[0m\u001b[0;34m)\u001b[0m\u001b[0;34m:\u001b[0m\u001b[0;34m\u001b[0m\u001b[0;34m\u001b[0m\u001b[0m\n",
      "\u001b[0;32m/opt/conda/lib/python3.9/site-packages/pandas/io/parsers.py\u001b[0m in \u001b[0;36m_make_engine\u001b[0;34m(self, engine)\u001b[0m\n\u001b[1;32m   1048\u001b[0m             )\n\u001b[1;32m   1049\u001b[0m         \u001b[0;31m# error: Too many arguments for \"ParserBase\"\u001b[0m\u001b[0;34m\u001b[0m\u001b[0;34m\u001b[0m\u001b[0;34m\u001b[0m\u001b[0m\n\u001b[0;32m-> 1050\u001b[0;31m         \u001b[0;32mreturn\u001b[0m \u001b[0mmapping\u001b[0m\u001b[0;34m[\u001b[0m\u001b[0mengine\u001b[0m\u001b[0;34m]\u001b[0m\u001b[0;34m(\u001b[0m\u001b[0mself\u001b[0m\u001b[0;34m.\u001b[0m\u001b[0mf\u001b[0m\u001b[0;34m,\u001b[0m \u001b[0;34m**\u001b[0m\u001b[0mself\u001b[0m\u001b[0;34m.\u001b[0m\u001b[0moptions\u001b[0m\u001b[0;34m)\u001b[0m  \u001b[0;31m# type: ignore[call-arg]\u001b[0m\u001b[0;34m\u001b[0m\u001b[0;34m\u001b[0m\u001b[0m\n\u001b[0m\u001b[1;32m   1051\u001b[0m \u001b[0;34m\u001b[0m\u001b[0m\n\u001b[1;32m   1052\u001b[0m     \u001b[0;32mdef\u001b[0m \u001b[0m_failover_to_python\u001b[0m\u001b[0;34m(\u001b[0m\u001b[0mself\u001b[0m\u001b[0;34m)\u001b[0m\u001b[0;34m:\u001b[0m\u001b[0;34m\u001b[0m\u001b[0;34m\u001b[0m\u001b[0m\n",
      "\u001b[0;32m/opt/conda/lib/python3.9/site-packages/pandas/io/parsers.py\u001b[0m in \u001b[0;36m__init__\u001b[0;34m(self, src, **kwds)\u001b[0m\n\u001b[1;32m   1865\u001b[0m \u001b[0;34m\u001b[0m\u001b[0m\n\u001b[1;32m   1866\u001b[0m         \u001b[0;31m# open handles\u001b[0m\u001b[0;34m\u001b[0m\u001b[0;34m\u001b[0m\u001b[0;34m\u001b[0m\u001b[0m\n\u001b[0;32m-> 1867\u001b[0;31m         \u001b[0mself\u001b[0m\u001b[0;34m.\u001b[0m\u001b[0m_open_handles\u001b[0m\u001b[0;34m(\u001b[0m\u001b[0msrc\u001b[0m\u001b[0;34m,\u001b[0m \u001b[0mkwds\u001b[0m\u001b[0;34m)\u001b[0m\u001b[0;34m\u001b[0m\u001b[0;34m\u001b[0m\u001b[0m\n\u001b[0m\u001b[1;32m   1868\u001b[0m         \u001b[0;32massert\u001b[0m \u001b[0mself\u001b[0m\u001b[0;34m.\u001b[0m\u001b[0mhandles\u001b[0m \u001b[0;32mis\u001b[0m \u001b[0;32mnot\u001b[0m \u001b[0;32mNone\u001b[0m\u001b[0;34m\u001b[0m\u001b[0;34m\u001b[0m\u001b[0m\n\u001b[1;32m   1869\u001b[0m         \u001b[0;32mfor\u001b[0m \u001b[0mkey\u001b[0m \u001b[0;32min\u001b[0m \u001b[0;34m(\u001b[0m\u001b[0;34m\"storage_options\"\u001b[0m\u001b[0;34m,\u001b[0m \u001b[0;34m\"encoding\"\u001b[0m\u001b[0;34m,\u001b[0m \u001b[0;34m\"memory_map\"\u001b[0m\u001b[0;34m,\u001b[0m \u001b[0;34m\"compression\"\u001b[0m\u001b[0;34m)\u001b[0m\u001b[0;34m:\u001b[0m\u001b[0;34m\u001b[0m\u001b[0;34m\u001b[0m\u001b[0m\n",
      "\u001b[0;32m/opt/conda/lib/python3.9/site-packages/pandas/io/parsers.py\u001b[0m in \u001b[0;36m_open_handles\u001b[0;34m(self, src, kwds)\u001b[0m\n\u001b[1;32m   1360\u001b[0m         \u001b[0mLet\u001b[0m \u001b[0mthe\u001b[0m \u001b[0mreaders\u001b[0m \u001b[0mopen\u001b[0m \u001b[0mIOHanldes\u001b[0m \u001b[0mafter\u001b[0m \u001b[0mthey\u001b[0m \u001b[0mare\u001b[0m \u001b[0mdone\u001b[0m \u001b[0;32mwith\u001b[0m \u001b[0mtheir\u001b[0m \u001b[0mpotential\u001b[0m \u001b[0mraises\u001b[0m\u001b[0;34m.\u001b[0m\u001b[0;34m\u001b[0m\u001b[0;34m\u001b[0m\u001b[0m\n\u001b[1;32m   1361\u001b[0m         \"\"\"\n\u001b[0;32m-> 1362\u001b[0;31m         self.handles = get_handle(\n\u001b[0m\u001b[1;32m   1363\u001b[0m             \u001b[0msrc\u001b[0m\u001b[0;34m,\u001b[0m\u001b[0;34m\u001b[0m\u001b[0;34m\u001b[0m\u001b[0m\n\u001b[1;32m   1364\u001b[0m             \u001b[0;34m\"r\"\u001b[0m\u001b[0;34m,\u001b[0m\u001b[0;34m\u001b[0m\u001b[0;34m\u001b[0m\u001b[0m\n",
      "\u001b[0;32m/opt/conda/lib/python3.9/site-packages/pandas/io/common.py\u001b[0m in \u001b[0;36mget_handle\u001b[0;34m(path_or_buf, mode, encoding, compression, memory_map, is_text, errors, storage_options)\u001b[0m\n\u001b[1;32m    640\u001b[0m                 \u001b[0merrors\u001b[0m \u001b[0;34m=\u001b[0m \u001b[0;34m\"replace\"\u001b[0m\u001b[0;34m\u001b[0m\u001b[0;34m\u001b[0m\u001b[0m\n\u001b[1;32m    641\u001b[0m             \u001b[0;31m# Encoding\u001b[0m\u001b[0;34m\u001b[0m\u001b[0;34m\u001b[0m\u001b[0;34m\u001b[0m\u001b[0m\n\u001b[0;32m--> 642\u001b[0;31m             handle = open(\n\u001b[0m\u001b[1;32m    643\u001b[0m                 \u001b[0mhandle\u001b[0m\u001b[0;34m,\u001b[0m\u001b[0;34m\u001b[0m\u001b[0;34m\u001b[0m\u001b[0m\n\u001b[1;32m    644\u001b[0m                 \u001b[0mioargs\u001b[0m\u001b[0;34m.\u001b[0m\u001b[0mmode\u001b[0m\u001b[0;34m,\u001b[0m\u001b[0;34m\u001b[0m\u001b[0;34m\u001b[0m\u001b[0m\n",
      "\u001b[0;31mFileNotFoundError\u001b[0m: [Errno 2] No such file or directory: '/Users/Danila/Desktop/PROJECT_Linear_Models/ferma_main.csv'"
     ]
    }
   ],
   "source": [
    "fm = pd.read_csv('ferma_main.csv', sep = ';')"
   ]
  },
  {
   "cell_type": "code",
   "execution_count": null,
   "id": "f034237b-60f6-4e83-b05e-a10701a348c6",
   "metadata": {},
   "outputs": [],
   "source": [
    "fd = pd.read_csv('ferma_dad.csv', sep = ';')"
   ]
  },
  {
   "cell_type": "code",
   "execution_count": null,
   "id": "3487739d-1459-4dc4-9070-e916975fd42a",
   "metadata": {},
   "outputs": [],
   "source": [
    "cow = pd.read_csv('cow_buy.csv', sep = ';')"
   ]
  },
  {
   "cell_type": "markdown",
   "id": "909602b3-1abc-4513-9b25-ae2420f9ec0e",
   "metadata": {},
   "source": [
    "## Часть 2.Предобработка данных"
   ]
  },
  {
   "cell_type": "code",
   "execution_count": null,
   "id": "96f45c40-9e07-445b-945f-217260672c87",
   "metadata": {},
   "outputs": [],
   "source": [
    "fm.info()"
   ]
  },
  {
   "cell_type": "code",
   "execution_count": null,
   "id": "37c42542-5e05-42e3-af0d-c621c3689c00",
   "metadata": {
    "scrolled": true
   },
   "outputs": [],
   "source": [
    "fm.head(15)"
   ]
  },
  {
   "cell_type": "markdown",
   "id": "230a07a7-0555-44ef-962f-1a95c5f9a79e",
   "metadata": {},
   "source": [
    "<div style=\"background-color: #e6f7ff; padding: 10px; border-radius: 5px;\">\n",
    "<p>столбцы где есть числа с плавающей точкой нужно перевести в другой тип данных(float) для дальнейшей работы с ними\n",
    "</p>\n",
    "</div>    \n"
   ]
  },
  {
   "cell_type": "code",
   "execution_count": null,
   "id": "227c9c26-cd26-4d08-8897-21f32f259a1e",
   "metadata": {},
   "outputs": [],
   "source": [
    "fm['ЭКЕ (Энергетическая кормовая единица)'] = fm['ЭКЕ (Энергетическая кормовая единица)'].str.replace(',', '.')"
   ]
  },
  {
   "cell_type": "code",
   "execution_count": null,
   "id": "965956a6-1d92-40a4-b164-9006b2804429",
   "metadata": {},
   "outputs": [],
   "source": [
    "fm['ЭКЕ (Энергетическая кормовая единица)'] = pd.to_numeric(fm['ЭКЕ (Энергетическая кормовая единица)'])"
   ]
  },
  {
   "cell_type": "code",
   "execution_count": null,
   "id": "62440a09-0b14-451d-b948-1f18402e205e",
   "metadata": {},
   "outputs": [],
   "source": [
    "fm['СПО (Сахаро-протеиновое соотношение)'] = fm['СПО (Сахаро-протеиновое соотношение)'].str.replace(',', '.')"
   ]
  },
  {
   "cell_type": "code",
   "execution_count": null,
   "id": "ade3e826-cdc4-43ec-97af-527501b2f558",
   "metadata": {},
   "outputs": [],
   "source": [
    "fm['СПО (Сахаро-протеиновое соотношение)'] = pd.to_numeric(fm['СПО (Сахаро-протеиновое соотношение)'])"
   ]
  },
  {
   "cell_type": "code",
   "execution_count": null,
   "id": "205517aa-fe2c-4bf9-898c-796a574d806c",
   "metadata": {},
   "outputs": [],
   "source": [
    "fm['Жирность,%'] = fm['Жирность,%'].str.replace(',', '.')"
   ]
  },
  {
   "cell_type": "code",
   "execution_count": null,
   "id": "daebb626-89c0-4a90-9272-7bd51e785222",
   "metadata": {},
   "outputs": [],
   "source": [
    "fm['Жирность,%'] = pd.to_numeric(fm['Жирность,%'])"
   ]
  },
  {
   "cell_type": "code",
   "execution_count": null,
   "id": "8b4d99de-ec99-488e-9978-92013081a255",
   "metadata": {},
   "outputs": [],
   "source": [
    "fm['Белок,%'] = fm['Белок,%'].str.replace(',', '.')"
   ]
  },
  {
   "cell_type": "code",
   "execution_count": null,
   "id": "61ace8ff-06a1-4962-bacd-5de0d90da6a7",
   "metadata": {},
   "outputs": [],
   "source": [
    "fm['Белок,%'] = pd.to_numeric(fm['Белок,%'])"
   ]
  },
  {
   "cell_type": "markdown",
   "id": "a302e2c7-8aef-4db7-8ab5-7d02f5fa68d1",
   "metadata": {},
   "source": [
    "<div style=\"background-color: #e6f7ff; padding: 10px; border-radius: 5px;\">\n",
    "<p>Так же нужно привести название столбцов к одному формату\n",
    "</p>\n",
    "</div>    \n"
   ]
  },
  {
   "cell_type": "code",
   "execution_count": null,
   "id": "04218f16-afb4-4996-860d-591d5670deea",
   "metadata": {},
   "outputs": [],
   "source": [
    "fm.columns = fm.columns.str.strip().str.lower().str.replace(' ', '_')"
   ]
  },
  {
   "cell_type": "markdown",
   "id": "68341dc1-29e4-417a-b702-f6908529b9ab",
   "metadata": {},
   "source": [
    "<div style=\"background-color: #e6f7ff; padding: 10px; border-radius: 5px;\">\n",
    "<p>проверим весь датафрейм на уникальность значений в каждом столбце\n",
    "</p>\n",
    "</div>    \n"
   ]
  },
  {
   "cell_type": "code",
   "execution_count": null,
   "id": "8e5a4a3a-b494-4e3b-8be1-46623ac07df4",
   "metadata": {},
   "outputs": [],
   "source": [
    "print(fm.nunique())"
   ]
  },
  {
   "cell_type": "markdown",
   "id": "5cda741b-6120-4ca2-875b-d191c589333c",
   "metadata": {},
   "source": [
    "<div style=\"background-color: #e6f7ff; padding: 10px; border-radius: 5px;\">\n",
    "<p>два последних столбца можно заменить на бинарный формат\n",
    "</p>\n",
    "</div>    \n"
   ]
  },
  {
   "cell_type": "code",
   "execution_count": null,
   "id": "e1bea720-b489-43ad-a633-0caa7d8643bc",
   "metadata": {},
   "outputs": [],
   "source": [
    "print(fm['возраст'].unique())"
   ]
  },
  {
   "cell_type": "code",
   "execution_count": null,
   "id": "4c7a3a58-417f-49a4-9886-ae5af8d02d11",
   "metadata": {},
   "outputs": [],
   "source": [
    "fm['вкус_молока'].unique()"
   ]
  },
  {
   "cell_type": "code",
   "execution_count": null,
   "id": "70aa9b09-5976-4b68-8a32-a0f1c3799c9d",
   "metadata": {
    "scrolled": true
   },
   "outputs": [],
   "source": [
    "# fm['вкус_молока']= fm['вкус_молока'].map({'вкусно' : 1 , 'не вкусно' : 0})\n",
    "# fm['возраст']= fm['возраст'].map({'более_2_лет' : 1 , 'менее_2_лет' : 0})"
   ]
  },
  {
   "cell_type": "markdown",
   "id": "169bd529-682c-4f61-bfc3-a4a17f684b97",
   "metadata": {},
   "source": [
    "<div style=\"background-color: #e6f7ff; padding: 10px; border-radius: 5px;\">\n",
    "<p>проверим этот датафрейм на наличие дубликатов и удалим их при обнаружении\n",
    "</p>\n",
    "</div>    \n"
   ]
  },
  {
   "cell_type": "code",
   "execution_count": null,
   "id": "75da74d7-de64-494e-bafa-0372d69847c4",
   "metadata": {},
   "outputs": [],
   "source": [
    "print(fm[fm.duplicated()])"
   ]
  },
  {
   "cell_type": "code",
   "execution_count": null,
   "id": "290a7431-ef5b-4eda-a5db-cf7bc1ac9cd4",
   "metadata": {},
   "outputs": [],
   "source": [
    "fm = fm.drop_duplicates()"
   ]
  },
  {
   "cell_type": "code",
   "execution_count": null,
   "id": "a2dd56f2-8cbc-44b3-9848-b79091d21135",
   "metadata": {},
   "outputs": [],
   "source": [
    "print(fm[fm.duplicated()])"
   ]
  },
  {
   "cell_type": "markdown",
   "id": "4c77ce23-fcc1-4bd8-855e-df6ef466de66",
   "metadata": {},
   "source": [
    "<div style=\"background-color: #e6f7ff; padding: 10px; border-radius: 5px;\">\n",
    "<p>отлично, все дуликаты успешно удалены\n",
    "</p>\n",
    "</div>    \n"
   ]
  },
  {
   "cell_type": "markdown",
   "id": "6e007967-630a-4bf9-b22f-895a34b2287b",
   "metadata": {},
   "source": [
    "<div style=\"background-color: #e6f7ff; padding: 10px; border-radius: 5px;\">\n",
    "<p>теперь проверим датафрейм на наличие пропусков\n",
    "</p>\n",
    "</div>    \n"
   ]
  },
  {
   "cell_type": "code",
   "execution_count": null,
   "id": "3f224553-20f0-42a5-9b92-d44338c1bb71",
   "metadata": {},
   "outputs": [],
   "source": [
    "print(fm.isnull().sum())"
   ]
  },
  {
   "cell_type": "code",
   "execution_count": null,
   "id": "15ca442e-a2a1-4c05-8b34-d7835e56f08e",
   "metadata": {},
   "outputs": [],
   "source": [
    "fm.head()"
   ]
  },
  {
   "cell_type": "code",
   "execution_count": null,
   "id": "773576c1-06da-422c-809a-3f8119525ecf",
   "metadata": {},
   "outputs": [],
   "source": [
    "fm['тип_пастбища'] = fm['тип_пастбища'].replace({'Равнинные' :'Равнинное'})"
   ]
  },
  {
   "cell_type": "markdown",
   "id": "f11a499a-45c7-43c0-9918-eec41c4fc684",
   "metadata": {},
   "source": [
    "<div style=\"background-color: #e6f7ff; padding: 10px; border-radius: 5px;\">\n",
    "<p>теперь разделим датасет ferma_main на несколько групп , как нам сказано в задании проекта\n",
    "</p>\n",
    "</div>    \n"
   ]
  },
  {
   "cell_type": "code",
   "execution_count": null,
   "id": "d367b590-7aab-4444-813c-324791b3dad5",
   "metadata": {},
   "outputs": [],
   "source": [
    "fm['порода_папы_быка'] =fm['порода_папы_быка'].replace({'Айдиалл' : 'Айдиал'})"
   ]
  },
  {
   "cell_type": "markdown",
   "id": "ce28eca4-482a-4ea6-a859-86f63f3ca993",
   "metadata": {},
   "source": [
    "<div style=\"background-color: #e6f7ff; padding: 10px; border-radius: 5px;\">\n",
    "<p>я попытался изменить этот неявный дубликат, но выяснил что могу это делать в главном датафрейме, т е в датафрейме fm\n",
    "</p>\n",
    "</div>    \n"
   ]
  },
  {
   "cell_type": "code",
   "execution_count": null,
   "id": "cd4ab14e-696f-41d8-a8a7-af08da753150",
   "metadata": {},
   "outputs": [],
   "source": [
    "# fm_pasture['тип_пастбища'].replace('Равнинные', 'Равнинное', inplace=True)"
   ]
  },
  {
   "cell_type": "code",
   "execution_count": null,
   "id": "f2ee3c11-eb9e-4c2d-a17f-1fd276308d82",
   "metadata": {
    "scrolled": true
   },
   "outputs": [],
   "source": [
    "fd.info()"
   ]
  },
  {
   "cell_type": "code",
   "execution_count": null,
   "id": "5ff7e24f-265a-47c8-ba33-4ea4a0a5f0ab",
   "metadata": {},
   "outputs": [],
   "source": [
    "fd"
   ]
  },
  {
   "cell_type": "code",
   "execution_count": null,
   "id": "e1f55966-b260-4248-add2-1fef3f2bd41b",
   "metadata": {
    "scrolled": true
   },
   "outputs": [],
   "source": [
    "print(fd.nunique())"
   ]
  },
  {
   "cell_type": "markdown",
   "id": "11bbb917-be1a-4b4a-ae77-838ba3511de6",
   "metadata": {},
   "source": [
    "<div style=\"background-color: #e6f7ff; padding: 10px; border-radius: 5px;\">\n",
    "<p>на дубликаты этот датафрейм проверять бессмысленно, так как в системе столбец 'имя_папы' имеет всего 4 значения\n",
    "</p>\n",
    "</div>    \n"
   ]
  },
  {
   "cell_type": "code",
   "execution_count": null,
   "id": "45f7a244-bd0f-4d37-9645-724b193e3744",
   "metadata": {},
   "outputs": [],
   "source": [
    "print(fd.isnull().sum())"
   ]
  },
  {
   "cell_type": "code",
   "execution_count": null,
   "id": "d33fd0f0-947c-425c-8e9b-62f63a27ae83",
   "metadata": {},
   "outputs": [],
   "source": [
    "fd.columns = fd.columns.str.strip().str.lower().str.replace(' ', '_')"
   ]
  },
  {
   "cell_type": "code",
   "execution_count": null,
   "id": "fc0a704d-e9e4-4690-a055-e00b1fc0cc2e",
   "metadata": {},
   "outputs": [],
   "source": [
    "cow.info()"
   ]
  },
  {
   "cell_type": "code",
   "execution_count": null,
   "id": "da4f7682-29d6-47c9-95cf-8e69948562a2",
   "metadata": {},
   "outputs": [],
   "source": [
    "cow"
   ]
  },
  {
   "cell_type": "code",
   "execution_count": null,
   "id": "e1f27d1d-6ace-4606-8684-0a4b4190974e",
   "metadata": {},
   "outputs": [],
   "source": [
    "print(cow.nunique())"
   ]
  },
  {
   "cell_type": "code",
   "execution_count": null,
   "id": "8d6724c1-edb6-41cf-be56-fcfcf6614a3a",
   "metadata": {},
   "outputs": [],
   "source": [
    "cow.columns = cow.columns.str.strip().str.lower().str.replace(' ', '_')"
   ]
  },
  {
   "cell_type": "markdown",
   "id": "e89522f3-7015-4b78-8331-1dbd1a295d75",
   "metadata": {},
   "source": [
    "<div style=\"background-color: #e6f7ff; padding: 10px; border-radius: 5px;\">\n",
    "<p>в этом датафрейме в нескольких столбцах так же можно заменить информацию на бинарный тип данных \n",
    "</p>\n",
    "</div>    \n"
   ]
  },
  {
   "cell_type": "code",
   "execution_count": null,
   "id": "42e2d9a3-642f-4591-bece-e781c1a30d01",
   "metadata": {},
   "outputs": [],
   "source": [
    "\n",
    "# cow['порода']= cow['порода'].map({'Вис Бик Айдиал' : 1 , 'РефлешнСоверинг' : 0})\n",
    "# cow['тип_пастбища']= cow['тип_пастбища'].map({'холмистое' : 1 , 'равнинное' : 0})\n",
    "# cow['порода_папы_быка']= cow['порода_папы_быка'].map({'Айдиал' : 1 , 'Соверин' : 0})\n",
    "# cow['возраст']= cow['возраст'].map({'более_2_лет' : 1 , 'менее_2_лет' : 0})\n"
   ]
  },
  {
   "cell_type": "code",
   "execution_count": null,
   "id": "8177bb98-c7e3-46f9-b64e-7088f72833c3",
   "metadata": {},
   "outputs": [],
   "source": [
    "cow['текущий_уровень_белок,%'] = cow['текущий_уровень_белок,%'].str.replace(',', '.')\n",
    "cow['текущая_жирность,%'] = cow['текущая_жирность,%'].str.replace(',', '.')"
   ]
  },
  {
   "cell_type": "code",
   "execution_count": null,
   "id": "0863db86-19ee-4721-8e5b-14d9edaf71e4",
   "metadata": {},
   "outputs": [],
   "source": [
    "cow.info()"
   ]
  },
  {
   "cell_type": "markdown",
   "id": "b619b46e-7a08-4c61-be09-19dcefdbb474",
   "metadata": {},
   "source": [
    "<div style=\"background-color: #e6f7ff; padding: 10px; border-radius: 5px;\">\n",
    "<p>мы провели предобработку, теперь можно переходить к исследовательскому анализу данных\n",
    "</p>\n",
    "</div>    \n"
   ]
  },
  {
   "cell_type": "markdown",
   "id": "882d5b96-f125-4d89-b2e6-833c8f696437",
   "metadata": {},
   "source": [
    "## Часть 3 Исследовательский анализ данных"
   ]
  },
  {
   "cell_type": "markdown",
   "id": "3c5a9b2e-19d2-4472-a83a-7b6160dab57b",
   "metadata": {},
   "source": [
    "<div style=\"background-color: #e6f7ff; padding: 10px; border-radius: 5px;\">\n",
    "<p>сделать статистический анализ можно с помощью метода describe()\n",
    "</p>\n",
    "</div>    \n"
   ]
  },
  {
   "cell_type": "code",
   "execution_count": null,
   "id": "c8df67b2-4bb2-4619-99be-114abc351611",
   "metadata": {},
   "outputs": [],
   "source": [
    "fm.describe(include = 'all')"
   ]
  },
  {
   "cell_type": "markdown",
   "id": "9408d092-c6e2-4213-b45e-cbd98d3cc976",
   "metadata": {},
   "source": [
    "<div style=\"background-color: #e6f7ff; padding: 10px; border-radius: 5px;\">\n",
    "<p>максимальное значение в столбце 'удой' аномально большое(более 45000 кг). Уберем его с помощью IQR\n",
    "</p>\n",
    "</div>    \n"
   ]
  },
  {
   "cell_type": "code",
   "execution_count": null,
   "id": "a7ff0753-2b9b-4c47-9f10-9e6ea91f0d48",
   "metadata": {},
   "outputs": [],
   "source": [
    "fm= fm[fm['удой,_кг'] <= 30000]"
   ]
  },
  {
   "cell_type": "markdown",
   "id": "74bfd2c1-f703-467e-8f02-40efb532ab86",
   "metadata": {},
   "source": [
    "<div style=\"background-color: #e6f7ff; padding: 10px; border-radius: 5px;\">\n",
    "<p>сперва я сделал фильтрацию с помощью IQR , но после решил проверить обычным условием, не убрал ли я с помощью данного метода важную информацию из датафрейма. Оказалось что нет и IQR справился на отлично \n",
    "</p>\n",
    "</div>    \n"
   ]
  },
  {
   "cell_type": "code",
   "execution_count": null,
   "id": "ff984ea5-5c45-497f-b884-9c735844e3c8",
   "metadata": {},
   "outputs": [],
   "source": [
    "\n",
    "# Q1 = fm_milk['удой,_кг'].quantile(0.25)\n",
    "# Q3 = fm_milk['удой,_кг'].quantile(0.75)\n",
    "# IQR = Q3 - Q1\n",
    "# low_d = Q1 - 1.5* IQR\n",
    "# high_d = Q3 + 1.5* IQR\n",
    "# fm_milk = fm_milk[(fm_milk['удой,_кг'] >= low_d) & (fm_milk['удой,_кг'] <= high_d)]"
   ]
  },
  {
   "cell_type": "markdown",
   "id": "1184796f-f56c-4b25-a4fd-c7cb45e407fa",
   "metadata": {},
   "source": [
    "<div style=\"background-color: #e6f7ff; padding: 10px; border-radius: 5px;\">\n",
    "<p>теперь сделаем графики для каждого признака\n",
    "</p>\n",
    "</div>    \n"
   ]
  },
  {
   "cell_type": "code",
   "execution_count": null,
   "id": "14987d43-3064-4c44-80cb-60dcba858a96",
   "metadata": {},
   "outputs": [],
   "source": [
    "plt.figure(figsize=(6, 4))\n",
    "sns.countplot(x=fm['порода'])\n",
    "plt.title('Порода')\n",
    "plt.ylabel('Количество голов')\n",
    "\n",
    "plt.show"
   ]
  },
  {
   "cell_type": "code",
   "execution_count": null,
   "id": "f8c0eb07-4339-4d0b-862c-3d66e9766640",
   "metadata": {},
   "outputs": [],
   "source": [
    "plt.figure(figsize=(6, 4))\n",
    "sns.countplot(x=fm['порода_папы_быка'])\n",
    "plt.title('Порода папы быка')\n",
    "plt.xlabel('Ответ')\n",
    "plt.ylabel('Количество голов')\n",
    "\n",
    "plt.show"
   ]
  },
  {
   "cell_type": "code",
   "execution_count": null,
   "id": "8d0fe4c8-f8c3-4bbd-a485-df7b14cc7111",
   "metadata": {
    "scrolled": true
   },
   "outputs": [],
   "source": [
    "plt.figure(figsize=(6, 4))\n",
    "sns.countplot(x=fm['возраст'])\n",
    "plt.title('Возраст')\n",
    "plt.xlabel('Ответ')\n",
    "plt.ylabel('Количество')\n",
    "\n",
    "plt.show"
   ]
  },
  {
   "cell_type": "markdown",
   "id": "a936cfa7-ce49-4822-998d-a2688bd3029f",
   "metadata": {},
   "source": [
    "<div style=\"background-color: #e6f7ff; padding: 10px; border-radius: 5px;\">\n",
    "<p>более 80% всех коров старше 2-ух лет.\n",
    "</p>\n",
    "</div>    \n"
   ]
  },
  {
   "cell_type": "code",
   "execution_count": null,
   "id": "6b7c3092-3f83-4f1e-8a70-a1a76cca124a",
   "metadata": {},
   "outputs": [],
   "source": [
    "plt.figure(figsize=(12, 6))\n",
    "\n",
    "sns.histplot(fm['эке_(энергетическая_кормовая_единица)'], bins=50, kde=True)\n",
    "plt.title('Гистограмма питательности корма коровы')\n",
    "plt.xlabel('корвомая единица')\n",
    "plt.ylabel('кол-во голов')\n",
    "\n",
    "plt.show()"
   ]
  },
  {
   "cell_type": "markdown",
   "id": "f7d1a078-a556-4748-b11e-ef681f83f625",
   "metadata": {},
   "source": [
    "<div style=\"background-color: #e6f7ff; padding: 10px; border-radius: 5px;\">\n",
    "<p>график выглядит достаточно стандартно, аномалий и выбросов на нем обнаружено не было\n",
    "</p>\n",
    "</div>    \n"
   ]
  },
  {
   "cell_type": "code",
   "execution_count": null,
   "id": "f4da9c84-269e-440f-9115-bb75a28f97bd",
   "metadata": {},
   "outputs": [],
   "source": [
    "plt.figure(figsize=(12, 6))\n",
    "\n",
    "sns.histplot(fm['сырой_протеин,_г'], bins=50, kde=True)\n",
    "plt.title('Гистограмма содержания протеина в корме')\n",
    "plt.xlabel('протеин(грамм)')\n",
    "plt.ylabel('кол-во голов')\n",
    "\n",
    "plt.show()"
   ]
  },
  {
   "cell_type": "markdown",
   "id": "49dfc0f6-8a6d-41b5-bca1-51783cfed70d",
   "metadata": {},
   "source": [
    "<div style=\"background-color: #e6f7ff; padding: 10px; border-radius: 5px;\">\n",
    "<p>график выглядит достаточно стандартно, аномалий и выбросов на нем обнаружено не было\n",
    "</p>\n",
    "</div>    \n"
   ]
  },
  {
   "cell_type": "code",
   "execution_count": null,
   "id": "e8c7a307-24d4-4871-b45e-6a8b50d08eff",
   "metadata": {
    "scrolled": true
   },
   "outputs": [],
   "source": [
    "plt.figure(figsize=(12, 6))\n",
    "\n",
    "sns.histplot(fm['спо_(сахаро-протеиновое_соотношение)'], bins=20, kde=True)\n",
    "plt.title('Гистограмма отношения сахара к протеину в корме коровы')\n",
    "plt.xlabel('отношение сахара к протеину')\n",
    "plt.ylabel('кол-во голов')\n",
    "\n",
    "plt.show()"
   ]
  },
  {
   "cell_type": "markdown",
   "id": "7d3d7e0d-abca-4485-bf5d-f8fde91db6d4",
   "metadata": {},
   "source": [
    "<div style=\"background-color: #e6f7ff; padding: 10px; border-radius: 5px;\">\n",
    "<p>на этом графике мы можем увидеть, что у большинства корма высокое соотношение сахара к протеину ( практически у 50% всех коров наблюдается коэф. 0.94 )\n",
    "</p>\n",
    "</div>    \n"
   ]
  },
  {
   "cell_type": "code",
   "execution_count": null,
   "id": "e4dd1ce3-43b5-44e8-8cf1-4acc553bb2c3",
   "metadata": {},
   "outputs": [],
   "source": [
    "plt.figure(figsize=(12, 6))\n",
    "\n",
    "sns.histplot(fm['удой,_кг'], bins=20, kde=True)\n",
    "plt.title('Гистограмма отношения сахара к протеину в корме коровы')\n",
    "plt.xlabel('отношение сахара к протеину')\n",
    "plt.ylabel('кол-во голов')\n",
    "\n",
    "plt.show()"
   ]
  },
  {
   "cell_type": "markdown",
   "id": "cb8e20dd-d259-42a5-b770-143ec0bd9924",
   "metadata": {},
   "source": [
    "<div style=\"background-color: #e6f7ff; padding: 10px; border-radius: 5px;\">\n",
    "<p>Этот график выглядит так же достаточно стандартно, аномалий и выбросов на нем обнаружено не было, линия достаточно плавная\n",
    "</p>\n",
    "</div>    \n"
   ]
  },
  {
   "cell_type": "code",
   "execution_count": null,
   "id": "881829c5-a80f-498e-9a4a-efea6537d27f",
   "metadata": {},
   "outputs": [],
   "source": [
    "plt.figure(figsize=(6, 4))\n",
    "sns.countplot(x=fm['тип_пастбища'])\n",
    "plt.title('Распределение ответов (Да/Нет)')\n",
    "plt.ylabel('Количество')\n",
    "\n",
    "plt.show()"
   ]
  },
  {
   "cell_type": "code",
   "execution_count": null,
   "id": "dec6d0e8-a4b4-48cf-9de6-f02db640929d",
   "metadata": {
    "scrolled": true
   },
   "outputs": [],
   "source": [
    "plt.figure(figsize=(12, 6))\n",
    "\n",
    "sns.histplot(fm['жирность,%'], bins=5, kde=True)\n",
    "plt.title('Гистограмма процентного содержания жира в молоке')\n",
    "plt.xlabel('процентное содержания жира в молоке')\n",
    "plt.ylabel('кол-во голов' )\n",
    "plt.xticks(np.linspace(fm['жирность,%'].min(), fm['жирность,%'].max(), 10))\n",
    "plt.show()"
   ]
  },
  {
   "cell_type": "markdown",
   "id": "10e4f913-90ec-406a-8b63-28d0161372b4",
   "metadata": {},
   "source": [
    "<div style=\"background-color: #e6f7ff; padding: 10px; border-radius: 5px;\">\n",
    "<p>Интересно, что более чем у 60% наблюдается равное(в рамках минимальной погрешности 0.1%) содержание жира (3.6656%)\n",
    "</p>\n",
    "</div>    \n"
   ]
  },
  {
   "cell_type": "code",
   "execution_count": null,
   "id": "fc2158ff-7a3f-403c-b8be-6fbacec57608",
   "metadata": {},
   "outputs": [],
   "source": [
    "plt.figure(figsize=(12, 6))\n",
    "\n",
    "sns.histplot(fm['белок,%'], bins=20, kde=True)\n",
    "plt.title('Гистограмма процентного содержания белка в молоке')\n",
    "plt.xlabel('процентное содержания жира в молоке')\n",
    "plt.ylabel('кол-во голов' )\n",
    "plt.show()"
   ]
  },
  {
   "cell_type": "markdown",
   "id": "06376415-a093-4cea-bf7f-16e910e70a3d",
   "metadata": {},
   "source": [
    "<div style=\"background-color: #e6f7ff; padding: 10px; border-radius: 5px;\">\n",
    "<p>график практически идеально повторяет линию графика нормального распределения . Все выглядит достаточно естесственно и правдоподобно\n",
    "</p>\n",
    "</div>    \n"
   ]
  },
  {
   "cell_type": "code",
   "execution_count": null,
   "id": "1e7b9efc-789b-4ad1-bf36-61ea6f95e01a",
   "metadata": {},
   "outputs": [],
   "source": [
    "plt.figure(figsize=(6, 4))\n",
    "\n",
    "sns.countplot(x=fm['вкус_молока'])\n",
    "plt.title('Вкус молока')\n",
    "plt.xlabel('Ответ')\n",
    "plt.ylabel('Количество')\n",
    "\n",
    "plt.show()\n"
   ]
  },
  {
   "cell_type": "markdown",
   "id": "3f3a3e6d-4277-4520-a800-8d8bade172eb",
   "metadata": {},
   "source": [
    "<div style=\"background-color: #e6f7ff; padding: 10px; border-radius: 5px;\">\n",
    "<p>теперь построим графики из третьего датафрейма\n",
    "</p>\n",
    "</div>    \n"
   ]
  },
  {
   "cell_type": "code",
   "execution_count": null,
   "id": "207b16dd-07c8-4da2-8631-82af1d8ce52c",
   "metadata": {},
   "outputs": [],
   "source": [
    "plt.figure(figsize=(6, 4))\n",
    "sns.countplot(x=cow['порода'])\n",
    "plt.title('порода')\n",
    "plt.ylabel('Количество')\n",
    "\n",
    "plt.show"
   ]
  },
  {
   "cell_type": "code",
   "execution_count": null,
   "id": "a5e53c98-2df6-4271-a02b-030621438f7a",
   "metadata": {},
   "outputs": [],
   "source": [
    "plt.figure(figsize=(6, 4))\n",
    "sns.countplot(x=cow['тип_пастбища'])\n",
    "plt.title('тип пастбища')\n",
    "plt.ylabel('Количество')\n",
    "\n",
    "plt.show"
   ]
  },
  {
   "cell_type": "code",
   "execution_count": null,
   "id": "627f7873-2605-4e1c-b7a5-6292557a6e1b",
   "metadata": {},
   "outputs": [],
   "source": [
    "plt.figure(figsize=(6, 4))\n",
    "sns.countplot(x=cow['порода_папы_быка'])\n",
    "plt.title('порода папы-быка')\n",
    "plt.ylabel('Количество')\n",
    "\n",
    "plt.show"
   ]
  },
  {
   "cell_type": "code",
   "execution_count": null,
   "id": "59cdf3a7-1018-4d12-b53c-04adaaae7066",
   "metadata": {},
   "outputs": [],
   "source": [
    "plt.figure(figsize=(6, 4))\n",
    "sns.countplot(x=cow['имя_папы'])\n",
    "plt.title('имя папы')\n",
    "plt.ylabel('Количество голов')\n",
    "\n",
    "plt.show"
   ]
  },
  {
   "cell_type": "code",
   "execution_count": null,
   "id": "fd763c6b-73e3-4f9b-8b09-c9c37a613bda",
   "metadata": {},
   "outputs": [],
   "source": [
    "plt.figure(figsize=(12, 6))\n",
    "\n",
    "sns.histplot(cow['текущая_жирность,%'], bins=20, kde=True)\n",
    "plt.title('Гистограмма процентного содержания жира в молоке')\n",
    "plt.xlabel('процентное содержания жира в молоке')\n",
    "plt.ylabel('кол-во голов' )\n",
    "plt.show()"
   ]
  },
  {
   "cell_type": "code",
   "execution_count": null,
   "id": "38f13902-6532-486d-b721-078a73ab931d",
   "metadata": {},
   "outputs": [],
   "source": [
    "plt.figure(figsize=(12, 6))\n",
    "\n",
    "sns.histplot(cow['текущий_уровень_белок,%'], bins=20, kde=True)\n",
    "plt.title('Гистограмма процентного содержания белка в молоке')\n",
    "plt.xlabel('процентное содержания жира в молоке')\n",
    "plt.ylabel('кол-во голов' )\n",
    "plt.show()"
   ]
  },
  {
   "cell_type": "code",
   "execution_count": null,
   "id": "315e6deb-37bf-48b8-87ab-51c0eaeb25f1",
   "metadata": {},
   "outputs": [],
   "source": [
    "plt.figure(figsize=(6, 4))\n",
    "sns.countplot(x=cow['возраст'])\n",
    "plt.title('возраст коровы')\n",
    "plt.ylabel('Количество голов')\n",
    "\n",
    "plt.show"
   ]
  },
  {
   "cell_type": "markdown",
   "id": "ac9eb950-7214-46d7-96c9-56999061d46a",
   "metadata": {},
   "source": [
    "<div style=\"background-color: #e6f7ff; padding: 10px; border-radius: 5px;\">\n",
    "<p>Отлично , все графики построены и сделалан поверхностный анализ (если информация не выглядит естесственно и нуждается в дополнительном комментарии)\n",
    "</p>\n",
    "</div>    \n"
   ]
  },
  {
   "cell_type": "markdown",
   "id": "139084a0",
   "metadata": {},
   "source": [
    "<div class=\"alert alert-success\">\n",
    "<b>👍 Успех:</b> Отлично, на все признаки просмотрены и выбросы удалены!\n",
    "</div>"
   ]
  },
  {
   "cell_type": "markdown",
   "id": "126da2e7-60cb-4af3-bc52-a5e2571cbd5d",
   "metadata": {},
   "source": [
    "## Часть 4. Корреляционный анализ"
   ]
  },
  {
   "cell_type": "markdown",
   "id": "20dacba1-79f3-487d-a7cf-908c4cb2d2ac",
   "metadata": {},
   "source": [
    "<div style=\"background-color: #e6f7ff; padding: 10px; border-radius: 5px;\">\n",
    "<p>теперь расчитаем коэффициенты кореляции для всех признаков\n",
    "</p>\n",
    "</div>    \n"
   ]
  },
  {
   "cell_type": "code",
   "execution_count": null,
   "id": "c46526a5-396c-448f-9064-b74f54f65a79",
   "metadata": {},
   "outputs": [],
   "source": [
    "correlation_fm = fm.corr(numeric_only=True)"
   ]
  },
  {
   "cell_type": "code",
   "execution_count": null,
   "id": "47ee2e2a-e41f-400f-bf76-1db10e12f4ae",
   "metadata": {},
   "outputs": [],
   "source": [
    "print('Correlation Matrix fm:')\n",
    "print(correlation_fm, '\\n')"
   ]
  },
  {
   "cell_type": "markdown",
   "id": "d2467ffe-c723-40d2-b725-d0a52a1f98f7",
   "metadata": {},
   "source": [
    "<div style=\"background-color: #e6f7ff; padding: 10px; border-radius: 5px;\">\n",
    "<p>у этой таблице нет смысла проверять коэфициент кореляции , так как там всего один числовой столбец\n",
    "</p>\n",
    "</div>    \n"
   ]
  },
  {
   "cell_type": "markdown",
   "id": "71525728-4b0f-4ae7-b672-29f0b01d6a09",
   "metadata": {},
   "source": [
    "<div style=\"background-color: #e6f7ff; padding: 10px; border-radius: 5px;\">\n",
    "<p>в этой матрице особенно выделяется коэф. кор. 0,74 между спо_(сахаро-протеиновое_соотношение) и эке_(энергетическая_кормовая_единица) и коэф 0.73 между спо_(сахаро-протеиновое_соотношение) и белок,% \n",
    "</p>\n",
    "</div>    \n"
   ]
  },
  {
   "cell_type": "markdown",
   "id": "a1e6999f-e15c-4e2e-be95-7d542f21c8bd",
   "metadata": {},
   "source": [
    "<div style=\"background-color: #e6f7ff; padding: 10px; border-radius: 5px;\">\n",
    "<p>теперь построим диаграмму рассеяния. Признак удой - целевой признак\n",
    "</p>\n",
    "</div>    \n"
   ]
  },
  {
   "cell_type": "code",
   "execution_count": null,
   "id": "80b363e3-437c-4554-9b1c-9d48120294bf",
   "metadata": {},
   "outputs": [],
   "source": [
    "target_variable = fm['удой,_кг']"
   ]
  },
  {
   "cell_type": "code",
   "execution_count": null,
   "id": "4b2607a4-76a2-4ca5-aca7-aeec87356215",
   "metadata": {},
   "outputs": [],
   "source": [
    "sns.scatterplot(data=fm, x='жирность,%', y='удой,_кг', hue=fm['порода'], palette='viridis', alpha=0.7)\n",
    "plt.title('Удой (кг) vs Жирность (%)')\n",
    "plt.xlabel('Жирность,%')\n",
    "plt.ylabel('Удой, кг')\n",
    "plt.legend(title='Порода')\n",
    "plt.show()\n"
   ]
  },
  {
   "cell_type": "code",
   "execution_count": null,
   "id": "3545f6e1-bb1c-466a-80f0-d69d8e9c42aa",
   "metadata": {},
   "outputs": [],
   "source": [
    "sns.scatterplot(data=fm, x='белок,%', y='удой,_кг', hue=fm['порода'], palette='viridis', alpha=0.7)\n",
    "plt.title('Удой (кг) vs Белок (%)')\n",
    "plt.xlabel('Белок,%')\n",
    "plt.ylabel('Удой, кг')\n",
    "plt.legend(title='Порода')\n",
    "plt.show()\n"
   ]
  },
  {
   "cell_type": "code",
   "execution_count": null,
   "id": "2c68d76a-b380-42ee-ad19-f1b1c91a912e",
   "metadata": {},
   "outputs": [],
   "source": [
    "fm.info()"
   ]
  },
  {
   "cell_type": "code",
   "execution_count": null,
   "id": "d537ac9e-ef7b-4ce0-8812-a0e20a2eb656",
   "metadata": {},
   "outputs": [],
   "source": [
    "sns.scatterplot(data=fm, x='эке_(энергетическая_кормовая_единица)', y='удой,_кг', hue=fm['порода'], palette='viridis', alpha=0.7)\n",
    "plt.title('Удой, кг vs ЭКЕ (Энергетическая кормовая единица)')\n",
    "plt.xlabel('ЭКЕ (Энергетическая кормовая единица)')\n",
    "plt.ylabel('Удой, кг')\n",
    "plt.legend(title='Порода')\n",
    "plt.show()"
   ]
  },
  {
   "cell_type": "code",
   "execution_count": null,
   "id": "cb1d818d-3141-4717-9f47-a7ed9fc62479",
   "metadata": {},
   "outputs": [],
   "source": [
    "sns.scatterplot(data=fm, x='спо_(сахаро-протеиновое_соотношение)', y='удой,_кг', hue=fm['порода'], palette='viridis', alpha=0.7)\n",
    "plt.title('Удой, кг vs СПО (Сахаро-протеиновое соотношение)')\n",
    "plt.xlabel('СПО (Сахаро-протеиновое соотношение)')\n",
    "plt.ylabel('Удой, кг')\n",
    "plt.legend(title='Порода')\n",
    "plt.show()\n"
   ]
  },
  {
   "cell_type": "code",
   "execution_count": null,
   "id": "182dbbfd-4227-4422-8efc-700f04439323",
   "metadata": {},
   "outputs": [],
   "source": [
    "sns.scatterplot(data=fm, x='сырой_протеин,_г', y='удой,_кг', hue=fm['порода'], palette=\"viridis\", alpha=0.7)\n",
    "plt.title('Удой (кг) vs сырой_протеин (г)')\n",
    "plt.xlabel('сырой_протеин (г)')\n",
    "plt.ylabel('Удой, кг')\n",
    "plt.legend(title='Порода')\n",
    "plt.show()"
   ]
  },
  {
   "cell_type": "code",
   "execution_count": null,
   "id": "20619080-421e-48fe-bcc2-9f1d873b79b1",
   "metadata": {},
   "outputs": [],
   "source": [
    "sns.scatterplot(data=fm, x='возраст', y='удой,_кг', hue=fm['порода'], palette=\"viridis\", alpha=0.7)\n",
    "plt.title('Удой (кг) vs возраст')\n",
    "plt.xlabel('возраст')\n",
    "plt.ylabel('Удой, кг')\n",
    "plt.legend(title='Порода')\n",
    "plt.show()"
   ]
  },
  {
   "cell_type": "code",
   "execution_count": null,
   "id": "bea03d52-3595-4886-9571-fd6110b77066",
   "metadata": {},
   "outputs": [],
   "source": [
    "fm.columns"
   ]
  },
  {
   "cell_type": "markdown",
   "id": "de6192db-f4b8-431d-b9a5-383d16e0c3e8",
   "metadata": {},
   "source": [
    "<div style=\"background-color: #e6f7ff; padding: 10px; border-radius: 5px;\">\n",
    "<p>теперь сделаем промежуточные выводы о взаимосвязях между целевым и входными признаками\n",
    "</p>\n",
    "</div>    \n"
   ]
  },
  {
   "cell_type": "markdown",
   "id": "89ea49ca-de50-4b1d-b271-e87d6c663bf9",
   "metadata": {},
   "source": [
    "<div style=\"background-color: #e6f7ff; padding: 10px; border-radius: 5px;\">\n",
    "<p>Между ЭКЕ (Энергетическая кормовая единица) и Удой, кг наблюдается четкая прямая линейная зависимость. Чем выше энергетическая ценность корма, тем больше удой.\n",
    "\n",
    "Для признаков сырой протеин, г, жирность,%, белок,% и спо_(сахаро-протеиновое_соотношение) зависимость с удоем не очевидна. Точки на графиках распределены равномерно, что указывает на слабую или отсутствующую корреляцию.\n",
    "\n",
    "Порода коровы не оказывает значительного влияния на удой. Группы пород (Вис Бик Айдиал, РефлешнСоверинг) имеют схожие распределения значений удоя на всех графиках.\n",
    "</p>\n",
    "</div>    \n"
   ]
  },
  {
   "cell_type": "markdown",
   "id": "c77e7e58-6274-432a-86af-ac0d50508fd4",
   "metadata": {},
   "source": [
    "<div style=\"background-color: #e6f7ff; padding: 10px; border-radius: 5px;\">\n",
    "<p>На графике Удой, кг vs СПО (Сахаро-протеиновое соотношение) наблюдается кластеризация данных, но четкой нелинейной зависимости не выявлено.\n",
    "\n",
    "График Удой, кг vs Жирность (%) показывает определенную дискретность данных.\n",
    "</p>\n",
    "</div>    \n"
   ]
  },
  {
   "cell_type": "markdown",
   "id": "f4546b0a-ba76-4f75-a0d2-391f4ac34607",
   "metadata": {},
   "source": [
    "<div style=\"background-color: #e6f7ff; padding: 10px; border-radius: 5px;\">\n",
    "<p>можно с помощью One-Hot Encoding закодировать данные и высчитать кормовую эффективность\n",
    "</p>\n",
    "</div>    \n"
   ]
  },
  {
   "cell_type": "code",
   "execution_count": null,
   "id": "21df2135-e6cd-4284-b3f2-63ac19330e63",
   "metadata": {},
   "outputs": [],
   "source": [
    "fm['кэ_(кормовая_эффективность)'] = fm['эке_(энергетическая_кормовая_единица)'] / fm['сырой_протеин,_г']"
   ]
  },
  {
   "cell_type": "code",
   "execution_count": null,
   "id": "27c0762c-598c-4560-b92c-bac2e53279d9",
   "metadata": {},
   "outputs": [],
   "source": [
    "fm['кэ_(кормовая_эффективность)']"
   ]
  },
  {
   "cell_type": "code",
   "execution_count": null,
   "id": "7900f497-b617-4890-a8b3-557b843014fc",
   "metadata": {},
   "outputs": [],
   "source": [
    "fm['ккк_(коэффициент_конверсии_корма)'] = fm['удой,_кг'] / fm['эке_(энергетическая_кормовая_единица)']"
   ]
  },
  {
   "cell_type": "code",
   "execution_count": null,
   "id": "67851517-a263-4737-b7d8-6e12d71c2a3e",
   "metadata": {},
   "outputs": [],
   "source": [
    "fm['ккк_(коэффициент_конверсии_корма)']"
   ]
  },
  {
   "cell_type": "code",
   "execution_count": null,
   "id": "42496bcd-4481-4350-ab21-f28ebdea5834",
   "metadata": {},
   "outputs": [],
   "source": [
    "plt.figure(figsize=(8, 6))\n",
    "sns.scatterplot(data=fm, x='кэ_(кормовая_эффективность)', y='ккк_(коэффициент_конверсии_корма)', hue='порода', palette='viridis', alpha=0.7)\n",
    "plt.title('Эффективность корма vs Коэффициент конверсии корма ')\n",
    "plt.xlabel('Эффективность корма')\n",
    "plt.ylabel('Коэффициент конверсии корма')\n",
    "plt.legend(title='Порода')\n",
    "plt.show()\n"
   ]
  },
  {
   "cell_type": "markdown",
   "id": "5841d5d3-a9e2-4cab-b5b2-8316a592bdda",
   "metadata": {},
   "source": [
    "<div style=\"background-color: #e6f7ff; padding: 10px; border-radius: 5px;\">\n",
    "<p>Из графика мы можем увидеть отрицательную кореляцию между эффективностью корма и коэффициентом конверсии корма\n",
    "\n",
    "С увеличением эффективности корма (ЭКЕ / Сырой протеин) коэффициент конверсии корма (Удой / ЭКЕ) уменьшается.\n",
    "\n",
    "Это логично, так как высокая эффективность корма (высокий ЭКЕ на единицу протеина) может снижать необходимость в большом количестве корма для получения хорошего удоя\n",
    "\n",
    "Породы коров распределены равномерно. Отсюда мы можем сделать вывод что порода коровы не является решающим фактором в данной зависимости.\n",
    "</p>\n",
    "</div>    \n"
   ]
  },
  {
   "cell_type": "markdown",
   "id": "9a9a00fb-95ee-410c-ae43-ba2eaf14d36c",
   "metadata": {},
   "source": [
    "<div style=\"background-color: #e6f7ff; padding: 10px; border-radius: 5px;\">\n",
    "<p>высокая коллинеарность наблюдается между этими признаками:\n",
    "\n",
    "ЭКЕ и сырой_протеин_г (0.77)\n",
    "\n",
    "ЭКЕ и СПО (0.75)\n",
    "\n",
    "СПО и жирность,% (0.63)\n",
    "</p>\n",
    "</div>    \n"
   ]
  },
  {
   "cell_type": "code",
   "execution_count": null,
   "id": "cd32a24b-9702-4916-8be6-e42a0558f8f8",
   "metadata": {},
   "outputs": [],
   "source": []
  },
  {
   "cell_type": "code",
   "execution_count": null,
   "id": "d3c83893-796f-4d82-95d8-df4400b139aa",
   "metadata": {},
   "outputs": [],
   "source": []
  },
  {
   "cell_type": "markdown",
   "id": "df4ffe0e-f905-4244-ad4f-602ba93f2c07",
   "metadata": {},
   "source": [
    "## Часть 5. Задача регрессии"
   ]
  },
  {
   "cell_type": "markdown",
   "id": "d24a2c33-79ef-43dd-bd26-217a003f887f",
   "metadata": {},
   "source": [
    "<div style=\"background-color: #e6f7ff; padding: 10px; border-radius: 5px;\">\n",
    "<p>включим количественные признаки которые имеют причино-следственную связь с удоем\n",
    "</p>\n",
    "</div>    \n"
   ]
  },
  {
   "cell_type": "code",
   "execution_count": null,
   "id": "b28bdff0-26c0-4c4d-9ffb-81bf7bded50c",
   "metadata": {},
   "outputs": [],
   "source": [
    "features_1 = [\n",
    "    'эке_(энергетическая_кормовая_единица)',\n",
    "    'сырой_протеин,_г',\n",
    "    'спо_(сахаро-протеиновое_соотношение)',\n",
    "    'жирность,%',\n",
    "    'белок,%',\n",
    "    'кэ_(кормовая_эффективность)',\n",
    "    'ккк_(коэффициент_конверсии_корма)'\n",
    "]\n"
   ]
  },
  {
   "cell_type": "markdown",
   "id": "fdc308a3-e720-440c-a578-d6a3ae8ba1cf",
   "metadata": {},
   "source": [
    "<div style=\"background-color: #e6f7ff; padding: 10px; border-radius: 5px;\">\n",
    "<p>включаем категориальные признаки\n",
    "</p>\n",
    "</div>    \n"
   ]
  },
  {
   "cell_type": "code",
   "execution_count": null,
   "id": "886c2e0f-5356-447b-b397-6c0b1a8f00a8",
   "metadata": {},
   "outputs": [],
   "source": [
    "categorical_features_1 = ['порода',\n",
    "                          'тип_пастбища',\n",
    "                          'порода_папы_быка',\n",
    "                          'возраст']"
   ]
  },
  {
   "cell_type": "markdown",
   "id": "2e5c1b3e-271a-4283-b4cd-a060b3479906",
   "metadata": {},
   "source": [
    "<div style=\"background-color: #e6f7ff; padding: 10px; border-radius: 5px;\">\n",
    "<p>теперь разделим данные на целевой и входные признаки\n",
    "</p>\n",
    "</div>    \n"
   ]
  },
  {
   "cell_type": "code",
   "execution_count": null,
   "id": "45a7c753-0b38-4b4a-9aa3-28a50dcbe9e4",
   "metadata": {},
   "outputs": [],
   "source": [
    "X_1 = fm.drop('удой,_кг' , axis = 1)\n",
    "y_1 = fm['удой,_кг']"
   ]
  },
  {
   "cell_type": "markdown",
   "id": "f37be50c-b9cc-4898-8eeb-9b3ee9dc39f7",
   "metadata": {},
   "source": [
    "<div style=\"background-color: #e6f7ff; padding: 10px; border-radius: 5px;\">\n",
    "<p>Кодирование категориальных признаков с помощью OneHotEncoder\n",
    "</p>\n",
    "</div>    \n"
   ]
  },
  {
   "cell_type": "code",
   "execution_count": null,
   "id": "0f68ca57-1aa0-478c-bdbb-afc1e08d8e75",
   "metadata": {},
   "outputs": [],
   "source": [
    "encoder_1 = OneHotEncoder(drop='first', sparse_output=False)\n",
    "X_encoded_1 = encoder_1.fit_transform(X_1[categorical_features_1])\n"
   ]
  },
  {
   "cell_type": "markdown",
   "id": "b77725a4-f1e4-4fef-98c2-1c1ed3dd83fe",
   "metadata": {},
   "source": [
    "<div style=\"background-color: #e6f7ff; padding: 10px; border-radius: 5px;\">\n",
    "<p>Объединение числовых и закодированных категориальных признаков\n",
    "</p>\n",
    "</div>    \n"
   ]
  },
  {
   "cell_type": "code",
   "execution_count": null,
   "id": "616c1f63-93d0-4e0c-91d2-948bcdfc6e7c",
   "metadata": {},
   "outputs": [],
   "source": [
    "X_numeric_1 = X_1[features_1].reset_index(drop=True)\n",
    "X_encoded_1 = pd.DataFrame(X_encoded_1, columns=encoder_1.get_feature_names_out(categorical_features_1))"
   ]
  },
  {
   "cell_type": "code",
   "execution_count": null,
   "id": "e414d99d-4a47-4cd6-9abf-089e4dca3423",
   "metadata": {},
   "outputs": [],
   "source": [
    "X_prepared_1 = pd.concat([X_numeric_1, X_encoded_1], axis=1)"
   ]
  },
  {
   "cell_type": "markdown",
   "id": "36feefe6-b164-4ae7-b521-04fcbc547968",
   "metadata": {},
   "source": [
    "<div style=\"background-color: #e6f7ff; padding: 10px; border-radius: 5px;\">\n",
    "<p>масштабируем количественные признаки\n",
    "</p>\n",
    "</div>    \n"
   ]
  },
  {
   "cell_type": "code",
   "execution_count": null,
   "id": "6ebabf4c-0119-456b-95f9-f342c4dbc061",
   "metadata": {},
   "outputs": [],
   "source": [
    "scaler_1 = StandardScaler()\n",
    "X_scaled_1 = scaler_1.fit_transform(X_prepared_1)"
   ]
  },
  {
   "cell_type": "markdown",
   "id": "52defb62",
   "metadata": {},
   "source": [
    "<div class=\"alert alert-danger\">\n",
    "<b>😔 Необходимо исправить:</b> Кодирование и масштабирование признаков проводятся после разделения на выборки\n",
    "</div>"
   ]
  },
  {
   "cell_type": "code",
   "execution_count": null,
   "id": "365d6a56-f7c2-4316-a3d0-e3ed1a0cd2db",
   "metadata": {},
   "outputs": [],
   "source": [
    "RANDOM_STATE = 42"
   ]
  },
  {
   "cell_type": "code",
   "execution_count": null,
   "id": "968a894b-5edf-4970-b77b-ace332e6a9da",
   "metadata": {},
   "outputs": [],
   "source": [
    "X_train_1, X_test_1, y_train_1, y_test_1 = train_test_split(X_scaled_1,\n",
    "    y_1, \n",
    "    test_size=0.2,\n",
    "    random_state=RANDOM_STATE)"
   ]
  },
  {
   "cell_type": "markdown",
   "id": "28ff0a16-c0d7-44bf-8566-63f3e7a70948",
   "metadata": {},
   "source": [
    "<div style=\"background-color: #e6f7ff; padding: 10px; border-radius: 5px;\">\n",
    "<p>Обучение модели линейной регрессии\n",
    "</p>\n",
    "</div>    \n"
   ]
  },
  {
   "cell_type": "code",
   "execution_count": null,
   "id": "834752e8-fa66-4f94-81b0-70b1dbbba5ca",
   "metadata": {},
   "outputs": [],
   "source": [
    "model_1 = LinearRegression()\n",
    "model_1.fit(X_train_1, y_train_1)"
   ]
  },
  {
   "cell_type": "markdown",
   "id": "b474fe0c-b820-476b-8fb8-639e36463086",
   "metadata": {},
   "source": [
    "<div style=\"background-color: #e6f7ff; padding: 10px; border-radius: 5px;\">\n",
    "<p>Предсказание на тестовой выборке\n",
    "</p>\n",
    "</div>    \n"
   ]
  },
  {
   "cell_type": "code",
   "execution_count": null,
   "id": "d9d51dc7-501a-4c6f-a165-2b64308ec91f",
   "metadata": {},
   "outputs": [],
   "source": [
    "y_pred_1 = model_1.predict(X_test_1)"
   ]
  },
  {
   "cell_type": "markdown",
   "id": "bd876eec-e73d-4811-b79c-cec69a96a0c2",
   "metadata": {},
   "source": [
    "<div style=\"background-color: #e6f7ff; padding: 10px; border-radius: 5px;\">\n",
    "<p>Оценка качества модели\n",
    "</p>\n",
    "</div>    \n"
   ]
  },
  {
   "cell_type": "code",
   "execution_count": null,
   "id": "26b086c2-e569-4392-977d-e0c8c4bc5303",
   "metadata": {},
   "outputs": [],
   "source": [
    "r2 = r2_score(y_test_1, y_pred_1)\n",
    "mse = mean_squared_error(y_test_1, y_pred_1)"
   ]
  },
  {
   "cell_type": "code",
   "execution_count": null,
   "id": "6f7bcc31-11a8-444c-8f19-ddc63fc330d9",
   "metadata": {},
   "outputs": [],
   "source": [
    "r2, mse"
   ]
  },
  {
   "cell_type": "code",
   "execution_count": null,
   "id": "7995502f-9b6a-4810-a06b-8cc3ff9ec91d",
   "metadata": {},
   "outputs": [],
   "source": [
    "plt.figure(figsize=(8, 6))\n",
    "residuals_1 = y_test_1 - y_pred_1\n",
    "sns.scatterplot(x=y_pred_1, y=residuals_1, alpha=0.7)\n",
    "plt.axhline(y=0, color='r', linestyle='--')\n",
    "plt.xlabel('Предсказанные значения (y_pred)')\n",
    "plt.ylabel('Остатки (y_test - y_pred)')\n",
    "plt.title('Анализ остатков модели линейной регрессии')\n",
    "plt.show()"
   ]
  },
  {
   "cell_type": "markdown",
   "id": "f52d22f2-5b27-4fa1-b4bf-11cb69bfa376",
   "metadata": {},
   "source": [
    "<div style=\"background-color: #e6f7ff; padding: 10px; border-radius: 5px;\">\n",
    "<p>Большинство остатков распределены равномерно вокруг оси 0, что говорит о том, что модель в целом хорошо предсказывает значения удоя, кг.\n",
    "\n",
    "Отсутствие явных паттернов или криволинейности указывает на то, что модель улавливает линейные зависимости между признаками.\n",
    "\n",
    "На графике видно, что при более высоких предсказанных значениях (6500-7000 кг) остатки имеют больший разброс, чем при низких значениях.\n",
    "</p>\n",
    "</div>    \n"
   ]
  },
  {
   "cell_type": "markdown",
   "id": "d1c233ae-b62d-49a4-a6fd-4266a1013ed1",
   "metadata": {
    "jp-MarkdownHeadingCollapsed": true
   },
   "source": [
    "<div style=\"background-color: #e6f7ff; padding: 10px; border-radius: 5px;\">\n",
    "<p>начинаем работать со второй моделью\n",
    "Преобразуем СПО в бинарный категориальный признак\n",
    "\n",
    "Определим границу между кластерамии\n",
    "spo_threshold = 0.9\n",
    "\n",
    "добавим новый признак(эке в квадрате)\n",
    "</p>\n",
    "</div>    \n"
   ]
  },
  {
   "cell_type": "code",
   "execution_count": null,
   "id": "e41b9d1f-c53d-45b3-bf96-913a0f1d92d7",
   "metadata": {},
   "outputs": [],
   "source": [
    "spo_threshold = 0.9\n",
    "fm['спо_бинарный'] = (fm['спо_(сахаро-протеиновое_соотношение)'] > spo_threshold).astype(int)\n",
    "fm['эке_в_квадрате'] = fm['эке_(энергетическая_кормовая_единица)'] ** 2\n"
   ]
  },
  {
   "cell_type": "markdown",
   "id": "75295c47-1459-4589-87d2-00b26daa7796",
   "metadata": {},
   "source": [
    "<div style=\"background-color: #e6f7ff; padding: 10px; border-radius: 5px;\">\n",
    "<p>Отбор признаков для новой модели\n",
    "</p>\n",
    "</div>    \n"
   ]
  },
  {
   "cell_type": "code",
   "execution_count": null,
   "id": "050359a7-5f32-4690-be92-15c1eb6eaf5c",
   "metadata": {},
   "outputs": [],
   "source": [
    "features_2 = [\n",
    "    'эке_(энергетическая_кормовая_единица)',\n",
    "    'эке_в_квадрате',\n",
    "    'сырой_протеин,_г',\n",
    "    'жирность,%',\n",
    "    'белок,%',\n",
    "    'кэ_(кормовая_эффективность)',\n",
    "    'ккк_(коэффициент_конверсии_корма)',\n",
    "    'спо_бинарный'\n",
    "]"
   ]
  },
  {
   "cell_type": "code",
   "execution_count": null,
   "id": "f3d1e99a-a82b-4adc-86f1-8ed7de5e565e",
   "metadata": {},
   "outputs": [],
   "source": [
    "categorical_features_2 = ['порода',\n",
    "                    'тип_пастбища',\n",
    "                    'порода_папы_быка',\n",
    "                    'возраст'\n",
    "]"
   ]
  },
  {
   "cell_type": "code",
   "execution_count": null,
   "id": "4bfb3994-ac7c-4011-9ac1-23e092a93598",
   "metadata": {},
   "outputs": [],
   "source": [
    "X_2 = fm.drop('удой,_кг' , axis = 1)\n",
    "y_2 = fm['удой,_кг']"
   ]
  },
  {
   "cell_type": "code",
   "execution_count": null,
   "id": "732018b1-bb41-4644-8c74-839d6e73c103",
   "metadata": {},
   "outputs": [],
   "source": [
    "encoder_2 = OneHotEncoder(drop='first', sparse_output=False)\n",
    "X_encoded_2 = encoder_2.fit_transform(X_2[categorical_features_2])"
   ]
  },
  {
   "cell_type": "code",
   "execution_count": null,
   "id": "804e7f83-6c19-4a56-b0a5-5fa1eba4a6a3",
   "metadata": {},
   "outputs": [],
   "source": []
  },
  {
   "cell_type": "code",
   "execution_count": null,
   "id": "122f5125-ac83-4e2b-9a57-d70b14e8da80",
   "metadata": {},
   "outputs": [],
   "source": [
    "X_numeric_2 = X_2[features_2].reset_index(drop=True)\n",
    "X_encoded_2 = pd.DataFrame(X_encoded_2, columns=encoder_2.get_feature_names_out(categorical_features_2))"
   ]
  },
  {
   "cell_type": "code",
   "execution_count": null,
   "id": "38ae0fad-72d6-45b0-b037-ea0c005b9fa1",
   "metadata": {},
   "outputs": [],
   "source": [
    "X_numeric_2 = X_2[features_2].reset_index(drop=True)\n",
    "X_encoded_2 = pd.DataFrame(X_encoded_2, columns=encoder_2.get_feature_names_out(categorical_features_2))"
   ]
  },
  {
   "cell_type": "code",
   "execution_count": null,
   "id": "da75d060-73d8-4ad8-a649-3b2e92569a24",
   "metadata": {},
   "outputs": [],
   "source": [
    "X_prepared_2 = pd.concat([X_numeric_2, X_encoded_2], axis=1)"
   ]
  },
  {
   "cell_type": "code",
   "execution_count": null,
   "id": "2579f0b0-987c-4778-b022-401e5079599b",
   "metadata": {},
   "outputs": [],
   "source": [
    "scaler_2 = StandardScaler()\n",
    "X_scaled_2 = scaler_2.fit_transform(X_prepared_2)"
   ]
  },
  {
   "cell_type": "code",
   "execution_count": null,
   "id": "193d34d3-9fd0-4d73-afe3-124e2510ae24",
   "metadata": {},
   "outputs": [],
   "source": [
    "X_train_2, X_test_2, y_train_2, y_test_2 = train_test_split(X_scaled_2,\n",
    "                                                    y_2,\n",
    "                                                    test_size=0.2,\n",
    "                                                    random_state=RANDOM_STATE)"
   ]
  },
  {
   "cell_type": "code",
   "execution_count": null,
   "id": "ed27732b-2b48-4ef1-b296-fad51713e839",
   "metadata": {},
   "outputs": [],
   "source": [
    "model_2 = LinearRegression()\n",
    "model_2.fit(X_train_2, y_train_2)"
   ]
  },
  {
   "cell_type": "code",
   "execution_count": null,
   "id": "fc5b0650-8a22-46d6-83d3-caba553063d5",
   "metadata": {},
   "outputs": [],
   "source": [
    "y_pred_2 = model_2.predict(X_test_2)"
   ]
  },
  {
   "cell_type": "code",
   "execution_count": null,
   "id": "296c6a3e-1b4b-4f0e-b6ca-5242fd91267c",
   "metadata": {},
   "outputs": [],
   "source": [
    "r2 = r2_score(y_test_2, y_pred_2)\n",
    "mse = mean_squared_error(y_test_2, y_pred_2)"
   ]
  },
  {
   "cell_type": "code",
   "execution_count": null,
   "id": "660b2d23-fc1b-43d0-9360-dab22da5fdeb",
   "metadata": {},
   "outputs": [],
   "source": [
    "r2, mse"
   ]
  },
  {
   "cell_type": "code",
   "execution_count": null,
   "id": "4403d409-289f-41e3-913f-c4cb63abe3da",
   "metadata": {},
   "outputs": [],
   "source": [
    "plt.figure(figsize=(8, 6))\n",
    "residuals_2 = y_test_2 - y_pred_2\n",
    "sns.scatterplot(x=y_pred_2, y=residuals_2, alpha=0.7)\n",
    "plt.axhline(y=0, color='r', linestyle='--')\n",
    "plt.xlabel('Предсказанные значения (y_pred)')\n",
    "plt.ylabel('Остатки (y_test - y_pred)')\n",
    "plt.title('Анализ остатков модели линейной регрессии')\n",
    "plt.show()"
   ]
  },
  {
   "cell_type": "markdown",
   "id": "4e80d105-8d0d-4d02-881d-6724728e7cc0",
   "metadata": {},
   "source": [
    "<div style=\"background-color: #e6f7ff; padding: 10px; border-radius: 5px;\">\n",
    "<p>Показательно MSE уменьшился более чем в 3 раза . Это говорит нам о том , что предсказания модели стали более точными\n",
    "\n",
    "Модель объясняет 99.85% дисперсии целевого признака\n",
    "Этот показатель значительно лучше чем в первой версии.\n",
    "\n",
    "Выбросы находятся в диапазоне (-60; 40) , что так же значительно лучше чем в предыдущей модели\n",
    "</p>\n",
    "</div>    \n"
   ]
  },
  {
   "cell_type": "markdown",
   "id": "de9ad48a-7897-42ad-ae36-c03476a66e34",
   "metadata": {},
   "source": [
    "<div style=\"background-color: #e6f7ff; padding: 10px; border-radius: 5px;\">\n",
    "<p>теперь займемся третьей моделью\n",
    "</p>\n",
    "</div>    \n"
   ]
  },
  {
   "cell_type": "code",
   "execution_count": null,
   "id": "fbfd8414-16ee-4af4-bc5c-bb346fc2d803",
   "metadata": {},
   "outputs": [],
   "source": [
    "cow"
   ]
  },
  {
   "cell_type": "code",
   "execution_count": null,
   "id": "a9bcc68d-476f-4399-a72d-a972d7be707a",
   "metadata": {},
   "outputs": [],
   "source": [
    "cow['id'] = cow.index + 1"
   ]
  },
  {
   "cell_type": "code",
   "execution_count": null,
   "id": "64e44ce7-19d7-4df7-95fc-c0789e450134",
   "metadata": {},
   "outputs": [],
   "source": [
    "fm = pd.merge(fm , fd[['имя_папы' , 'id']] , on = 'id' , how = 'left')"
   ]
  },
  {
   "cell_type": "code",
   "execution_count": null,
   "id": "8ea4d513-d313-4056-8fce-d61d9e6d0c9b",
   "metadata": {},
   "outputs": [],
   "source": [
    "fm"
   ]
  },
  {
   "cell_type": "code",
   "execution_count": null,
   "id": "e38999af-2a57-4641-84cc-962e58a3cf11",
   "metadata": {},
   "outputs": [],
   "source": [
    "features_3 = [\n",
    "    'эке_(энергетическая_кормовая_единица)',\n",
    "    'эке_в_квадрате',\n",
    "    'сырой_протеин,_г',\n",
    "    'жирность,%',\n",
    "    'белок,%',\n",
    "    'кэ_(кормовая_эффективность)',\n",
    "    'ккк_(коэффициент_конверсии_корма)',\n",
    "    'спо_бинарный',\n",
    "    \n",
    "]\n",
    "categorical_features_3 = ['порода', 'тип_пастбища', 'порода_папы_быка', 'возраст', 'имя_папы']\n",
    "\n",
    "X_3 = fm.drop('удой,_кг' , axis = 1)\n",
    "y_3 = fm['удой,_кг']\n",
    "\n",
    "encoder_3 = OneHotEncoder(drop='first', sparse_output=False)\n",
    "X_encoded_3 = encoder_3.fit_transform(X_3[categorical_features_3])\n",
    "\n",
    "X_numeric_3 = X_3[features_3].reset_index(drop=True)\n",
    "X_encoded_3 = pd.DataFrame(X_encoded_3, columns=encoder_3.get_feature_names_out(categorical_features_3))\n",
    "\n",
    "X_prepared_3 = pd.concat([X_numeric_3, X_encoded_3], axis=1)\n",
    "\n",
    "scaler_3 = StandardScaler()\n",
    "X_scaled_3 = scaler_3.fit_transform(X_prepared_3)\n",
    "\n",
    "X_train_3, X_test_3, y_train_3, y_test_3 = train_test_split(X_scaled_3,\n",
    "                                                    y_3,\n",
    "                                                    test_size=0.2,\n",
    "                                                    random_state=42)\n",
    "\n",
    "model_3 = LinearRegression()\n",
    "model_3.fit(X_train_3, y_train_3)\n",
    "\n",
    "y_pred_3 = model_3.predict(X_test_3)\n",
    "\n",
    "r2 = r2_score(y_test_3, y_pred_3)\n",
    "mse = mean_squared_error(y_test_3, y_pred_3)\n",
    "\n",
    "r2, mse"
   ]
  },
  {
   "cell_type": "code",
   "execution_count": null,
   "id": "c7a00261-8314-40ec-9e19-cf0622193109",
   "metadata": {},
   "outputs": [],
   "source": [
    "plt.figure(figsize=(8, 6))\n",
    "residuals_3 = y_test_3 - y_pred_3\n",
    "sns.scatterplot(x=y_pred_3, y=residuals_3, alpha=0.7)\n",
    "plt.axhline(y=0, color='r', linestyle='--')\n",
    "plt.xlabel('Предсказанные значения (y_pred)')\n",
    "plt.ylabel('Остатки (y_test - y_pred)')\n",
    "plt.title('Анализ остатков модели линейной регрессии')\n",
    "plt.show()"
   ]
  },
  {
   "cell_type": "markdown",
   "id": "8eba3ecd-c95d-49ec-840d-458d542e6411",
   "metadata": {},
   "source": [
    "<div style=\"background-color: #e6f7ff; padding: 10px; border-radius: 5px;\">\n",
    "<p>В этой модели есть положительные улучшения, но незначительные . Немного измелился процент объяснимых данных (с 99.858 до 99.848), так же mse изменилась с 294 до 316.\n",
    "\n",
    "Так же уменьшился диапазон выбросов по остаткам .\n",
    "\n",
    "Можно сделать промежуточный вывод, что данная модель показала не самые лучшие результаты и всех трех.\n",
    "У второй модели показатели немного точнее , несмотря на увеличенный диапазон остатков\n",
    "</p>\n",
    "</div>    \n"
   ]
  },
  {
   "cell_type": "code",
   "execution_count": null,
   "id": "33a1b2bf-dcb3-49c0-8a50-851eb1ffff15",
   "metadata": {},
   "outputs": [],
   "source": []
  },
  {
   "cell_type": "markdown",
   "id": "c0b821bb-7f56-493c-8915-2c52f4f2d857",
   "metadata": {},
   "source": [
    "<div style=\"background-color: #e6f7ff; padding: 10px; border-radius: 5px;\">\n",
    "<p>все три модели я прогонял по одному алгоритму, используя одинаковые переменные. Данные каждой переменной для модели наслаивались на данные предыдущей модели. Поэтому я сохраню данные каждой модели отдельно для дальнейшей работы с ней\n",
    "</p>\n",
    "</div>    \n"
   ]
  },
  {
   "cell_type": "code",
   "execution_count": null,
   "id": "e29000c3-fa8b-4646-9cfe-1bfd0fd5cbed",
   "metadata": {
    "scrolled": true
   },
   "outputs": [],
   "source": [
    "metrics = {}\n",
    "def calculate_metrics(y_true, y_pred, model_name):\n",
    "    mse = mean_squared_error(y_true, y_pred)\n",
    "    mae = mean_absolute_error(y_true, y_pred)\n",
    "    rmse = np.sqrt(mse)\n",
    "    metrics[model_name] = {'MSE': mse, 'MAE': mae, 'RMSE': rmse}\n",
    "\n",
    "calculate_metrics(y_test_1, y_pred_1, 'Model 1')\n",
    "calculate_metrics(y_test_2, y_pred_2, 'Model 2')\n",
    "calculate_metrics(y_test_3, y_pred_3, 'Model 3')\n",
    "\n",
    "for model_name , metric_values in metrics.items():\n",
    "    print (f'Метрика для {model_name}:')\n",
    "    for metric_name , value in metric_values.items():\n",
    "        print(f'{metric_name} , {value}')\n",
    "    print()\n",
    "    "
   ]
  },
  {
   "cell_type": "markdown",
   "id": "e15f71b8-d387-42ab-85e8-6df54dd6ec71",
   "metadata": {},
   "source": [
    "<div style=\"background-color: #e6f7ff; padding: 10px; border-radius: 5px;\">\n",
    "<p>Теперь расчитаем квантили для доверибтельного интервала\n",
    "Сделаем это через функцию\n",
    "</p>\n",
    "</div>    \n"
   ]
  },
  {
   "cell_type": "code",
   "execution_count": null,
   "id": "5576445d-765e-465c-b1a7-faaf6f120bd6",
   "metadata": {},
   "outputs": [],
   "source": [
    "confidence_intervals = {}\n",
    "def quantiles(X_train , y_train, model_name , model ):\n",
    "    train_residuals = y_train - model.predict(X_train)\n",
    "\n",
    "    lower_quantile = np.quantile(train_residuals, 0.025)\n",
    "    upper_quantile = np.quantile(train_residuals, 0.975)\n",
    "\n",
    "    confidence_intervals[model_name] = {'lower': lower_quantile, 'upper': upper_quantile}\n",
    "\n",
    "quantiles(X_train_1, y_train_1, 'Model 1', model_1)\n",
    "quantiles(X_train_2, y_train_2, 'Model 2', model_2)\n",
    "quantiles(X_train_3, y_train_3, 'Model 3', model_3)\n",
    "\n",
    "confidence_intervals"
   ]
  },
  {
   "cell_type": "markdown",
   "id": "47bd7952-66a8-4da5-a5d0-98651ffaca77",
   "metadata": {},
   "source": [
    "<div style=\"background-color: #e6f7ff; padding: 10px; border-radius: 5px;\">\n",
    "<p>у третьей модели самую маленькую ширину интервала , поэтому будем использовать ее \n",
    "\n",
    "Добавим недостающие значения из датафрейма fm\n",
    "</p>\n",
    "</div>    \n"
   ]
  },
  {
   "cell_type": "code",
   "execution_count": null,
   "id": "97d4e8cd-d96c-4a3d-9841-3c1e0d622753",
   "metadata": {},
   "outputs": [],
   "source": [
    "average_values = fm[\n",
    "    ['эке_(энергетическая_кормовая_единица)',\n",
    "     'сырой_протеин,_г',\n",
    "     'спо_(сахаро-протеиновое_соотношение)',\n",
    "     'ккк_(коэффициент_конверсии_корма)'\n",
    "    ]\n",
    "].mean()"
   ]
  },
  {
   "cell_type": "code",
   "execution_count": null,
   "id": "c1431a62-dc2d-4914-b709-12223a4ee746",
   "metadata": {},
   "outputs": [],
   "source": [
    "average_values"
   ]
  },
  {
   "cell_type": "code",
   "execution_count": null,
   "id": "7c6529ae-856d-4ac0-86dd-c5fbf4913849",
   "metadata": {},
   "outputs": [],
   "source": [
    "increased_values = average_values * 1.05"
   ]
  },
  {
   "cell_type": "code",
   "execution_count": null,
   "id": "5a7e113e-dc7c-4150-aabb-c2c5bcff45dd",
   "metadata": {},
   "outputs": [],
   "source": [
    "cow['эке_(энергетическая_кормовая_единица)'] = increased_values['эке_(энергетическая_кормовая_единица)']\n",
    "cow['сырой_протеин,_г'] = increased_values['сырой_протеин,_г']\n",
    "cow['спо_(сахаро-протеиновое_соотношение)'] = increased_values['спо_(сахаро-протеиновое_соотношение)']\n",
    "cow['ккк_(коэффициент_конверсии_корма)'] = increased_values['ккк_(коэффициент_конверсии_корма)']"
   ]
  },
  {
   "cell_type": "code",
   "execution_count": null,
   "id": "c3c2c945-0ef5-4d0d-a75d-8b92268a2d9d",
   "metadata": {
    "scrolled": true
   },
   "outputs": [],
   "source": [
    "cow.head(5)"
   ]
  },
  {
   "cell_type": "code",
   "execution_count": null,
   "id": "b042bed4-5d34-4085-995c-ebde5f64e27d",
   "metadata": {},
   "outputs": [],
   "source": [
    "spo_threshold = 0.9\n",
    "cow['спо_бинарный'] = (cow['спо_(сахаро-протеиновое_соотношение)'] > spo_threshold).astype(int)\n",
    "cow['эке_в_квадрате'] = cow['эке_(энергетическая_кормовая_единица)'] ** 2\n",
    "\n",
    "#cow['ккк_(коэффициент_конверсии_корма)'] = cow['удой,_кг'] / cow['эке_(энергетическая_кормовая_единица)']\n",
    "\n",
    "cow['кэ_(кормовая_эффективность)'] = cow['эке_(энергетическая_кормовая_единица)'] / cow['сырой_протеин,_г']\n"
   ]
  },
  {
   "cell_type": "code",
   "execution_count": null,
   "id": "e06b031d-2a59-4fd8-8882-85074bb24485",
   "metadata": {},
   "outputs": [],
   "source": [
    "cow.head()"
   ]
  },
  {
   "cell_type": "code",
   "execution_count": null,
   "id": "8c4efedf-ddcb-4478-a027-5314d083d3f2",
   "metadata": {},
   "outputs": [],
   "source": [
    "cow['тип_пастбища'] = cow['тип_пастбища'].str.capitalize()"
   ]
  },
  {
   "cell_type": "markdown",
   "id": "40b2e7af-5553-489d-8a9e-4bf8704a5deb",
   "metadata": {},
   "source": [
    "<div style=\"background-color: #e6f7ff; padding: 10px; border-radius: 5px;\">\n",
    "<p>для корректной работы модели нужно переименовать столбцы 'текущая_жирность' и 'текущий_уровень_белок'\n",
    "</p>\n",
    "</div>    \n"
   ]
  },
  {
   "cell_type": "code",
   "execution_count": null,
   "id": "d540358a-abb4-4e47-868a-29f497a14cd5",
   "metadata": {},
   "outputs": [],
   "source": [
    "cow.rename(columns = {'текущая_жирность,%': 'жирность,%' , 'текущий_уровень_белок,%' : 'белок,%'},inplace = True )"
   ]
  },
  {
   "cell_type": "code",
   "execution_count": null,
   "id": "8641eb2c-6740-4002-9f1a-aeab33b21c29",
   "metadata": {
    "scrolled": true
   },
   "outputs": [],
   "source": [
    "features_3 = [\n",
    "    'эке_(энергетическая_кормовая_единица)',\n",
    "    'эке_в_квадрате',\n",
    "    'сырой_протеин,_г',\n",
    "    'жирность,%',\n",
    "    'белок,%',\n",
    "    'кэ_(кормовая_эффективность)',\n",
    "    'ккк_(коэффициент_конверсии_корма)',\n",
    "    'спо_бинарный'\n",
    "]\n",
    "categorical_features_3 = ['порода', 'тип_пастбища', 'порода_папы_быка', 'возраст', 'имя_папы']\n",
    "\n",
    "X_3_buy = cow[features_3 + categorical_features_3]\n",
    "\n",
    "X_encoded_3_buy = encoder_3.transform(X_3_buy[categorical_features_3])\n",
    "\n",
    "\n",
    "X_numeric_3_buy = X_3_buy[features_3].reset_index(drop=True)\n",
    "X_encoded_3_buy = pd.DataFrame(X_encoded_3_buy, columns=encoder_3.get_feature_names_out(categorical_features_3))\n",
    "\n",
    "X_prepared_3_buy = pd.concat([X_numeric_3_buy, X_encoded_3_buy], axis=1)\n",
    "\n",
    "X_scaled_3_buy = scaler_3.transform(X_prepared_3_buy)\n",
    "\n",
    "y_pred_buy = model_3.predict(X_scaled_3_buy)\n",
    "\n",
    "y_pred_buy\n"
   ]
  },
  {
   "cell_type": "markdown",
   "id": "ef110c77-f853-4c4b-942e-6590c7730982",
   "metadata": {},
   "source": [
    "<div style=\"background-color: #e6f7ff; padding: 10px; border-radius: 5px;\">\n",
    "<p>Отлично, мы получили прогнозы удоя коров\n",
    "\n",
    "Запишем его в датафрейм cow\n",
    "</p>\n",
    "</div>    \n"
   ]
  },
  {
   "cell_type": "code",
   "execution_count": null,
   "id": "e80e5400-76ed-40e4-9435-8da3670a756c",
   "metadata": {},
   "outputs": [],
   "source": [
    "cow['удой,_кг'] = [6773.0824866 , 6814.66275263, 6761.97273269, 6786.77343414,\n",
    "       6773.11284178, 6843.17019206, 6773.0824866 , 6764.56459167,\n",
    "       6761.97273269, 6822.81895687, 6780.67907657, 6773.92399869,\n",
    "       6800.37871128, 6813.41759451, 6761.97273269, 6783.21479324,\n",
    "       6759.32723117, 6844.01917715, 6772.06643271, 6773.11284178]"
   ]
  },
  {
   "cell_type": "code",
   "execution_count": null,
   "id": "993a7dd5-64df-408c-8c67-60e9563c7d09",
   "metadata": {},
   "outputs": [],
   "source": [
    "cow['удой,_кг']"
   ]
  },
  {
   "cell_type": "markdown",
   "id": "813d6f5e-0e66-448d-8784-1b1d83a07b1a",
   "metadata": {},
   "source": [
    "## Часть 6 Задача классификации\n",
    "   \n"
   ]
  },
  {
   "cell_type": "code",
   "execution_count": null,
   "id": "ac380216-6d51-4c2f-bbb1-f236dc1c02b3",
   "metadata": {},
   "outputs": [],
   "source": []
  },
  {
   "cell_type": "code",
   "execution_count": null,
   "id": "4e7791e5-c92a-42d8-a2e8-864eb696dad8",
   "metadata": {},
   "outputs": [],
   "source": [
    "cow.info()"
   ]
  },
  {
   "cell_type": "markdown",
   "id": "0e18d372-6ca2-49cd-897f-bbad72ab50f7",
   "metadata": {},
   "source": [
    "<div style=\"background-color: #e6f7ff; padding: 10px; border-radius: 5px;\">\n",
    "<p>добавим некоторые данные в датафрейм fm из датафрейма cow , а так же произведем некоторую обработку данных\n",
    "</p>\n",
    "</div>    \n"
   ]
  },
  {
   "cell_type": "code",
   "execution_count": null,
   "id": "e702ff14-36a9-4e87-b2e3-393a2d1ffd8a",
   "metadata": {},
   "outputs": [],
   "source": [
    "fm['порода_cow']= cow['порода'].map({'Вис Бик Айдиал' : 1 , 'РефлешнСоверинг' : 0})\n",
    "\n",
    "fm['тип_пастбища_cow']= cow['тип_пастбища'].map({'Холмистое' : 1 , 'Равнинное' : 0})\n",
    "\n",
    "fm['порода_папы_быка_cow']= cow['порода_папы_быка'].map({'Айдиал' : 1 , 'Соверин' : 0})\n",
    "\n",
    "fm['возраст_cow']= cow['возраст'].map({'более_2_лет' : 1 , 'менее_2_лет' : 0})\n",
    "fm['вкус_молока'] = fm['вкус_молока'].map({'вкусно' : 1 , 'не вкусно' : 0})"
   ]
  },
  {
   "cell_type": "code",
   "execution_count": null,
   "id": "c3cd76d3-13d0-479d-b0aa-c2d760e5c0bf",
   "metadata": {},
   "outputs": [],
   "source": [
    "fm.columns.unique()"
   ]
  },
  {
   "cell_type": "code",
   "execution_count": null,
   "id": "93b1ca10-1f53-4a39-b56a-e0ee32d233bf",
   "metadata": {
    "scrolled": true
   },
   "outputs": [],
   "source": [
    "fm.info()"
   ]
  },
  {
   "cell_type": "code",
   "execution_count": null,
   "id": "333dc823-f718-4716-a784-9dd1333cf45e",
   "metadata": {},
   "outputs": [],
   "source": [
    "fm['вкус_молока']"
   ]
  },
  {
   "cell_type": "code",
   "execution_count": null,
   "id": "5917ad82-7330-4958-ac70-1b6cdcafa309",
   "metadata": {},
   "outputs": [],
   "source": [
    "fm.head(20)"
   ]
  },
  {
   "cell_type": "code",
   "execution_count": null,
   "id": "f9a885ea-77f8-45fc-b360-3b3e64f77017",
   "metadata": {},
   "outputs": [],
   "source": [
    "features_log = [\n",
    "    'эке_(энергетическая_кормовая_единица)',\n",
    "    'эке_в_квадрате',\n",
    "    'сырой_протеин,_г',\n",
    "    'жирность,%',\n",
    "    'белок,%',\n",
    "    'кэ_(кормовая_эффективность)',\n",
    "    'ккк_(коэффициент_конверсии_корма)',\n",
    "    'спо_бинарный',\n",
    "    'удой,_кг'\n",
    "]\n",
    "categorical_features_log = ['порода', 'тип_пастбища', 'порода_папы_быка', 'возраст', 'имя_папы']\n",
    "\n",
    "X_log = fm.drop('вкус_молока' , axis = 1)\n",
    "y_log = fm['вкус_молока']\n",
    "# Кодирование категориальных признаков с помощью get_dummies\n",
    "X_cat = pd.get_dummies(X_log[categorical_features_log], drop_first=True)\n",
    "\n",
    "# Масштабирование количественных признаков\n",
    "scaler = StandardScaler()\n",
    "X_num_scaled = pd.DataFrame(\n",
    "    scaler.fit_transform(X_log[features_log]),\n",
    "    columns=features_log,\n",
    "    index=X_log.index\n",
    ")\n",
    "# Объединяем обработанные числовые и категориальные признаки\n",
    "X_prepared = pd.concat([X_num_scaled, X_cat], axis=1)\n",
    "\n",
    "# Разбивка данных на тренировочную и тестовую выборки (80%/20%)\n",
    "RANDOM_STATE = 42\n",
    "X_train, X_test, y_train, y_test = train_test_split(X_prepared, y_log, test_size=0.2, random_state=RANDOM_STATE)\n",
    "\n",
    "# Обучение модели LogisticRegression\n",
    "model = LogisticRegression(max_iter=1000, random_state=RANDOM_STATE)\n",
    "model.fit(X_train, y_train)\n",
    "\n",
    "# Предсказание на тестовой выборке\n",
    "y_pred = model.predict(X_test)\n",
    "\n",
    "# Оценка качества модели\n",
    "accuracy = accuracy_score(y_test, y_pred)\n",
    "recall = recall_score(y_test, y_pred)\n",
    "precision = precision_score(y_test, y_pred)\n",
    "\n",
    "print(\"Accuracy:\", accuracy)\n",
    "print(\"Recall:\", recall)\n",
    "print(\"Precision:\", precision)"
   ]
  },
  {
   "cell_type": "markdown",
   "id": "b5196536-c52b-4677-9a6c-c71348eb167a",
   "metadata": {},
   "source": [
    "<div style=\"background-color: #e6f7ff; padding: 10px; border-radius: 5px;\">\n",
    "<p>Модель достаточно хорошо распознаёт положительные классы, но ошибается в некоторых предсказаниях, выдавая «вкусно», когда на самом деле «не вкусно».\n",
    "\n",
    "Высокое значение Recall (0.84) при среднем Precision (0.64) говорит о том, что модель «перестраховывается» и склонна чаще говорить «вкусно», даже если не уверена на 100%.\n",
    "</p>\n",
    "</div>    \n"
   ]
  },
  {
   "cell_type": "code",
   "execution_count": null,
   "id": "44e16c52-8e14-40ca-be85-aef6e40ff7ed",
   "metadata": {},
   "outputs": [],
   "source": [
    "cm = confusion_matrix(y_test, y_pred)\n",
    "plt.figure(figsize=(6, 4))\n",
    "sns.heatmap(cm, annot=True, fmt='d', cmap='Blues')\n",
    "plt.xlabel(\"Предсказано\")\n",
    "plt.ylabel(\"Истинное значение\")\n",
    "plt.title(\"Матрица ошибок\")\n",
    "plt.show()"
   ]
  },
  {
   "cell_type": "markdown",
   "id": "68785fc5-e7fc-48d9-94d5-3382813fecd6",
   "metadata": {},
   "source": [
    "<div style=\"background-color: #e6f7ff; padding: 10px; border-radius: 5px;\">\n",
    "<p>Модель хорошо распознает положительные случаи («вкусно»), но часто ошибается с ложными положительными (34 случая)\n",
    "\n",
    "Возможно, модель склонна к предсказанию класса 1, что увеличивает полноту, но снижает точность.\n",
    "</p>\n",
    "</div>    \n"
   ]
  },
  {
   "cell_type": "markdown",
   "id": "44f37760-b6b5-4390-9acd-2d7e36850906",
   "metadata": {},
   "source": [
    "<div style=\"background-color: #e6f7ff; padding: 10px; border-radius: 5px;\">\n",
    "<p>Recall = 0.84: Модель определяет 84% действительно «вкусных» коров.\n",
    "\n",
    "Precision = 0.64: Только 64% коров, которые модель посчитала «вкусными», действительно дают хорошее молоко.\n",
    "\n",
    "В данной задаче ошибка первого рода (FP) более критична, так как покупка коровы с невкусным молоком приводит к прямым финансовым потерям. Поэтому Precision важнее, так как она снижает вероятность ложных положительных предсказаний.\n",
    "</p>\n",
    "</div>    \n"
   ]
  },
  {
   "cell_type": "code",
   "execution_count": null,
   "id": "e9e0ab83-0f5c-49f6-8daa-9a2d71f0a419",
   "metadata": {},
   "outputs": [],
   "source": [
    "y_proba = model.predict_proba(X_test)[:, 1]\n",
    "\n",
    "# Установим более высокий порог, например, 0.8\n",
    "threshold = 0.6\n",
    "y_pred_threshold = (y_proba >= threshold).astype(int)\n",
    "\n",
    "# Пересчитаем метрики\n",
    "accuracy = accuracy_score(y_test, y_pred_threshold)\n",
    "recall = recall_score(y_test, y_pred_threshold)\n",
    "precision = precision_score(y_test, y_pred_threshold)\n",
    "\n",
    "accuracy, recall, precision"
   ]
  },
  {
   "cell_type": "markdown",
   "id": "9dbe49c6-7ae2-4723-836b-cd633c204b26",
   "metadata": {},
   "source": [
    "<div style=\"background-color: #e6f7ff; padding: 10px; border-radius: 5px;\">\n",
    "<p>методом подбора было выявлено оптимальное значение порога принадлежности\n",
    "\n",
    "Учитывая цели заказчика порог 0.55 поможет не упустить хороших коров, что повысит общее качество молока.\n",
    "При этом Precision (0.69) все еще остается на приемлемом уровне, что снижает риск покупки «плохой» коровы.\n",
    "</p>\n",
    "</div>    \n"
   ]
  },
  {
   "cell_type": "markdown",
   "id": "fda25ae1-e07d-4fe7-b126-424c506b73d9",
   "metadata": {},
   "source": [
    "<div style=\"background-color: #e6f7ff; padding: 10px; border-radius: 5px;\">\n",
    "<p>исходя из анализа модели далее мы можем провести кросс-валидацию , чтобы оценить стабильность модели на различных подвыборках данных.\n",
    "Убедиться, что выбранный порог работает эффективно на всех данных, а не только на тестовой выборке.\n",
    "Также желательно оптимизировать модель\n",
    "Попробовать другие модели классификации и провести подбор гиперпараметров \n",
    "\n",
    "Необходима обратная связь от заказчика. Нужно уточнить, насколько важно заказчику избегать ошибок первого рода или максимально увеличивать количество найденных хороших коров.\n",
    "</p>\n",
    "</div>    \n"
   ]
  },
  {
   "cell_type": "code",
   "execution_count": null,
   "id": "c9591314-5a0c-4759-8b5a-27807e2bd9d2",
   "metadata": {},
   "outputs": [],
   "source": [
    "cow.columns"
   ]
  },
  {
   "cell_type": "code",
   "execution_count": null,
   "id": "e00b569c-cfe9-4c1c-b285-9af5faf023ae",
   "metadata": {},
   "outputs": [],
   "source": [
    "features_buy = [\n",
    "    'эке_(энергетическая_кормовая_единица)',\n",
    "    'эке_в_квадрате',\n",
    "    'сырой_протеин,_г',\n",
    "    'жирность,%',\n",
    "    'белок,%',\n",
    "    'кэ_(кормовая_эффективность)',\n",
    "    'ккк_(коэффициент_конверсии_корма)',\n",
    "    'спо_бинарный',\n",
    "    'удой,_кг'\n",
    "]\n",
    "categorical_features_buy = ['порода', 'тип_пастбища', 'порода_папы_быка', 'возраст', 'имя_папы']\n",
    "\n",
    "X_cat_buy = pd.get_dummies(cow[categorical_features_buy], drop_first=True)\n",
    "\n",
    "X_num_buy_scaled = pd.DataFrame(\n",
    "    scaler.transform(cow[features_buy]),  # CHANGED: Используем transform, а не fit_transform\n",
    "    columns=features_buy,\n",
    "    index=cow.index\n",
    ")\n",
    "\n",
    "X_buy_prepared = pd.concat([X_num_buy_scaled, X_cat_buy], axis=1)\n",
    "X_buy_prepared = X_buy_prepared.reindex(columns=X_prepared.columns, fill_value=0)\n",
    "\n",
    "predictions = model.predict(X_buy_prepared)\n",
    "print(\"Прогноз вкуса молока для коров \\'Эко-Фермы\\':\")\n",
    "print(predictions)\n"
   ]
  },
  {
   "cell_type": "code",
   "execution_count": null,
   "id": "2a2d8a7c-675c-42b2-9797-075d0eab1a1a",
   "metadata": {},
   "outputs": [],
   "source": [
    "cow['вкус_молока'] = [1, 1, 1, 0, 1, 0, 1, 1, 1, 1, 0, 0, 0, 1, 1, 0, 1, 0, 0, 1]"
   ]
  },
  {
   "cell_type": "code",
   "execution_count": null,
   "id": "25bbe81f-edf8-450b-add2-2e8c1a2a7011",
   "metadata": {},
   "outputs": [],
   "source": [
    "cow"
   ]
  },
  {
   "cell_type": "markdown",
   "id": "48aaa79b-d8d6-470f-8e9a-11c71e83507a",
   "metadata": {},
   "source": [
    "<div style=\"background-color: #e6f7ff; padding: 10px; border-radius: 5px;\">\n",
    "<p>с минимальным риском , учитывая условия отбора , фермер сможет себе купить 12 коров.\n",
    "</p>\n",
    "</div>    \n"
   ]
  },
  {
   "cell_type": "markdown",
   "id": "01e2c83d-8e27-4428-b992-165b1e7c750f",
   "metadata": {},
   "source": [
    "## Итоговый вывод"
   ]
  },
  {
   "cell_type": "markdown",
   "id": "4f9700d9-9998-461b-b566-9ff1d5e0a7e0",
   "metadata": {},
   "source": [
    "<div style=\"background-color: #e6f7ff; padding: 10px; border-radius: 5px;\">\n",
    "<p>В этой задаче для повышения качества модели я использовал кодирование категориальных признаков (get_dummies()), масштабирование количественных признаков (StandardScaler)\n",
    "В работе так же была произведена обработка пропусков и разбиение данных на тренировочную и тестовую выборки\n",
    "Еще в этой работе производилас  настройка гиперпараметров ( max_iter и random_state) \n",
    "\n",
    "Возможности дальнейшего улучшения модели\n",
    "Безусловно модель можно улучшить с помощью добавления новых признаков, например, взаимодействия между признаками может повысить качество модели.\n",
    "Регуляризация , Отбор признаков Использование методов отбора признаков (например, рекурсивный отбор признаков , а так же улучшение гиперпараметров и калибровки вероятностей так же могут улучшить модель\n",
    "\n",
    "\n",
    "Важные метрики для моделей классификации при анализе рисков:\n",
    "Accuracy \n",
    "Доля верных предсказаний от общего числа наблюдений\n",
    "Precision\n",
    "Доля правильно предсказанных положительных случаев среди всех предсказанных положительных\n",
    "Recall\n",
    "Доля правильно предсказанных положительных случаев среди всех фактических положительных.\n",
    "Confusion Matrix (матрица ошибок):\n",
    "Детализированное представление распределения ошибок по классам, что позволяет оценить, какие типы ошибок преобладают.\n",
    "</p>\n",
    "</div>    \n"
   ]
  }
 ],
 "metadata": {
  "ExecuteTimeLog": [
   {
    "duration": 451,
    "start_time": "2025-02-26T09:05:29.018Z"
   },
   {
    "duration": 2,
    "start_time": "2025-02-26T09:05:29.471Z"
   },
   {
    "duration": 301,
    "start_time": "2025-02-26T09:05:29.475Z"
   },
   {
    "duration": 577,
    "start_time": "2025-02-26T09:05:29.779Z"
   },
   {
    "duration": 292,
    "start_time": "2025-02-26T09:05:30.358Z"
   },
   {
    "duration": 35,
    "start_time": "2025-02-26T09:05:30.652Z"
   },
   {
    "duration": 3,
    "start_time": "2025-02-26T09:05:30.689Z"
   },
   {
    "duration": 20,
    "start_time": "2025-02-26T09:05:30.694Z"
   },
   {
    "duration": 810,
    "start_time": "2025-02-26T09:05:30.715Z"
   },
   {
    "duration": 0,
    "start_time": "2025-02-26T09:05:31.532Z"
   },
   {
    "duration": 0,
    "start_time": "2025-02-26T09:05:31.533Z"
   },
   {
    "duration": 0,
    "start_time": "2025-02-26T09:05:31.534Z"
   },
   {
    "duration": 0,
    "start_time": "2025-02-26T09:05:31.535Z"
   },
   {
    "duration": 0,
    "start_time": "2025-02-26T09:05:31.536Z"
   },
   {
    "duration": 0,
    "start_time": "2025-02-26T09:05:31.537Z"
   },
   {
    "duration": 0,
    "start_time": "2025-02-26T09:05:31.538Z"
   },
   {
    "duration": 0,
    "start_time": "2025-02-26T09:05:31.539Z"
   },
   {
    "duration": 0,
    "start_time": "2025-02-26T09:05:31.540Z"
   },
   {
    "duration": 0,
    "start_time": "2025-02-26T09:05:31.541Z"
   },
   {
    "duration": 0,
    "start_time": "2025-02-26T09:05:31.542Z"
   },
   {
    "duration": 0,
    "start_time": "2025-02-26T09:05:31.543Z"
   },
   {
    "duration": 0,
    "start_time": "2025-02-26T09:05:31.544Z"
   },
   {
    "duration": 0,
    "start_time": "2025-02-26T09:05:31.545Z"
   },
   {
    "duration": 0,
    "start_time": "2025-02-26T09:05:31.546Z"
   },
   {
    "duration": 0,
    "start_time": "2025-02-26T09:05:31.547Z"
   },
   {
    "duration": 0,
    "start_time": "2025-02-26T09:05:31.548Z"
   },
   {
    "duration": 0,
    "start_time": "2025-02-26T09:05:31.549Z"
   },
   {
    "duration": 0,
    "start_time": "2025-02-26T09:05:31.550Z"
   },
   {
    "duration": 0,
    "start_time": "2025-02-26T09:05:31.552Z"
   },
   {
    "duration": 0,
    "start_time": "2025-02-26T09:05:31.553Z"
   },
   {
    "duration": 0,
    "start_time": "2025-02-26T09:05:31.554Z"
   },
   {
    "duration": 0,
    "start_time": "2025-02-26T09:05:31.555Z"
   },
   {
    "duration": 0,
    "start_time": "2025-02-26T09:05:31.556Z"
   },
   {
    "duration": 0,
    "start_time": "2025-02-26T09:05:31.557Z"
   },
   {
    "duration": 0,
    "start_time": "2025-02-26T09:05:31.558Z"
   },
   {
    "duration": 0,
    "start_time": "2025-02-26T09:05:31.559Z"
   },
   {
    "duration": 0,
    "start_time": "2025-02-26T09:05:31.560Z"
   },
   {
    "duration": 0,
    "start_time": "2025-02-26T09:05:31.561Z"
   },
   {
    "duration": 0,
    "start_time": "2025-02-26T09:05:31.562Z"
   },
   {
    "duration": 0,
    "start_time": "2025-02-26T09:05:31.563Z"
   },
   {
    "duration": 0,
    "start_time": "2025-02-26T09:05:31.564Z"
   },
   {
    "duration": 0,
    "start_time": "2025-02-26T09:05:31.566Z"
   },
   {
    "duration": 0,
    "start_time": "2025-02-26T09:05:31.567Z"
   },
   {
    "duration": 0,
    "start_time": "2025-02-26T09:05:31.568Z"
   },
   {
    "duration": 0,
    "start_time": "2025-02-26T09:05:31.569Z"
   },
   {
    "duration": 0,
    "start_time": "2025-02-26T09:05:31.570Z"
   },
   {
    "duration": 0,
    "start_time": "2025-02-26T09:05:31.571Z"
   },
   {
    "duration": 0,
    "start_time": "2025-02-26T09:05:31.572Z"
   },
   {
    "duration": 0,
    "start_time": "2025-02-26T09:05:31.573Z"
   },
   {
    "duration": 0,
    "start_time": "2025-02-26T09:05:31.574Z"
   },
   {
    "duration": 0,
    "start_time": "2025-02-26T09:05:31.575Z"
   },
   {
    "duration": 0,
    "start_time": "2025-02-26T09:05:31.576Z"
   },
   {
    "duration": 0,
    "start_time": "2025-02-26T09:05:31.577Z"
   },
   {
    "duration": 0,
    "start_time": "2025-02-26T09:05:31.578Z"
   },
   {
    "duration": 0,
    "start_time": "2025-02-26T09:05:31.579Z"
   },
   {
    "duration": 0,
    "start_time": "2025-02-26T09:05:31.581Z"
   },
   {
    "duration": 0,
    "start_time": "2025-02-26T09:05:31.582Z"
   },
   {
    "duration": 0,
    "start_time": "2025-02-26T09:05:31.583Z"
   },
   {
    "duration": 0,
    "start_time": "2025-02-26T09:05:31.584Z"
   },
   {
    "duration": 0,
    "start_time": "2025-02-26T09:05:31.585Z"
   },
   {
    "duration": 0,
    "start_time": "2025-02-26T09:05:31.586Z"
   },
   {
    "duration": 0,
    "start_time": "2025-02-26T09:05:31.587Z"
   },
   {
    "duration": 0,
    "start_time": "2025-02-26T09:05:31.588Z"
   },
   {
    "duration": 0,
    "start_time": "2025-02-26T09:05:31.589Z"
   },
   {
    "duration": 0,
    "start_time": "2025-02-26T09:05:31.590Z"
   },
   {
    "duration": 0,
    "start_time": "2025-02-26T09:05:31.613Z"
   },
   {
    "duration": 0,
    "start_time": "2025-02-26T09:05:31.615Z"
   },
   {
    "duration": 0,
    "start_time": "2025-02-26T09:05:31.616Z"
   },
   {
    "duration": 0,
    "start_time": "2025-02-26T09:05:31.617Z"
   },
   {
    "duration": 0,
    "start_time": "2025-02-26T09:05:31.618Z"
   },
   {
    "duration": 0,
    "start_time": "2025-02-26T09:05:31.619Z"
   },
   {
    "duration": 0,
    "start_time": "2025-02-26T09:05:31.620Z"
   },
   {
    "duration": 0,
    "start_time": "2025-02-26T09:05:31.621Z"
   },
   {
    "duration": 0,
    "start_time": "2025-02-26T09:05:31.622Z"
   },
   {
    "duration": 0,
    "start_time": "2025-02-26T09:05:31.623Z"
   },
   {
    "duration": 0,
    "start_time": "2025-02-26T09:05:31.624Z"
   },
   {
    "duration": 0,
    "start_time": "2025-02-26T09:05:31.625Z"
   },
   {
    "duration": 0,
    "start_time": "2025-02-26T09:05:31.626Z"
   },
   {
    "duration": 0,
    "start_time": "2025-02-26T09:05:31.627Z"
   },
   {
    "duration": 0,
    "start_time": "2025-02-26T09:05:31.628Z"
   },
   {
    "duration": 0,
    "start_time": "2025-02-26T09:05:31.629Z"
   },
   {
    "duration": 0,
    "start_time": "2025-02-26T09:05:31.630Z"
   },
   {
    "duration": 0,
    "start_time": "2025-02-26T09:05:31.631Z"
   },
   {
    "duration": 0,
    "start_time": "2025-02-26T09:05:31.632Z"
   },
   {
    "duration": 0,
    "start_time": "2025-02-26T09:05:31.634Z"
   },
   {
    "duration": 0,
    "start_time": "2025-02-26T09:05:31.634Z"
   },
   {
    "duration": 0,
    "start_time": "2025-02-26T09:05:31.635Z"
   },
   {
    "duration": 0,
    "start_time": "2025-02-26T09:05:31.636Z"
   },
   {
    "duration": 0,
    "start_time": "2025-02-26T09:05:31.637Z"
   },
   {
    "duration": 0,
    "start_time": "2025-02-26T09:05:31.639Z"
   },
   {
    "duration": 0,
    "start_time": "2025-02-26T09:05:31.640Z"
   },
   {
    "duration": 0,
    "start_time": "2025-02-26T09:05:31.641Z"
   },
   {
    "duration": 0,
    "start_time": "2025-02-26T09:05:31.642Z"
   },
   {
    "duration": 0,
    "start_time": "2025-02-26T09:05:31.643Z"
   },
   {
    "duration": 0,
    "start_time": "2025-02-26T09:05:31.644Z"
   },
   {
    "duration": 0,
    "start_time": "2025-02-26T09:05:31.645Z"
   },
   {
    "duration": 0,
    "start_time": "2025-02-26T09:05:31.646Z"
   },
   {
    "duration": 0,
    "start_time": "2025-02-26T09:05:31.647Z"
   },
   {
    "duration": 0,
    "start_time": "2025-02-26T09:05:31.648Z"
   },
   {
    "duration": 0,
    "start_time": "2025-02-26T09:05:31.648Z"
   },
   {
    "duration": 0,
    "start_time": "2025-02-26T09:05:31.650Z"
   },
   {
    "duration": 0,
    "start_time": "2025-02-26T09:05:31.650Z"
   },
   {
    "duration": 0,
    "start_time": "2025-02-26T09:05:31.652Z"
   },
   {
    "duration": 0,
    "start_time": "2025-02-26T09:05:31.652Z"
   },
   {
    "duration": 0,
    "start_time": "2025-02-26T09:05:31.653Z"
   },
   {
    "duration": 0,
    "start_time": "2025-02-26T09:05:31.654Z"
   },
   {
    "duration": 0,
    "start_time": "2025-02-26T09:05:31.655Z"
   },
   {
    "duration": 0,
    "start_time": "2025-02-26T09:05:31.656Z"
   },
   {
    "duration": 0,
    "start_time": "2025-02-26T09:05:31.657Z"
   },
   {
    "duration": 0,
    "start_time": "2025-02-26T09:05:31.658Z"
   },
   {
    "duration": 0,
    "start_time": "2025-02-26T09:05:31.659Z"
   },
   {
    "duration": 0,
    "start_time": "2025-02-26T09:05:31.659Z"
   },
   {
    "duration": 0,
    "start_time": "2025-02-26T09:05:31.660Z"
   },
   {
    "duration": 0,
    "start_time": "2025-02-26T09:05:31.661Z"
   },
   {
    "duration": 0,
    "start_time": "2025-02-26T09:05:31.662Z"
   },
   {
    "duration": 0,
    "start_time": "2025-02-26T09:05:31.663Z"
   },
   {
    "duration": 0,
    "start_time": "2025-02-26T09:05:31.664Z"
   },
   {
    "duration": 0,
    "start_time": "2025-02-26T09:05:31.665Z"
   },
   {
    "duration": 0,
    "start_time": "2025-02-26T09:05:31.666Z"
   },
   {
    "duration": 0,
    "start_time": "2025-02-26T09:05:31.667Z"
   },
   {
    "duration": 0,
    "start_time": "2025-02-26T09:05:31.669Z"
   },
   {
    "duration": 0,
    "start_time": "2025-02-26T09:05:31.670Z"
   },
   {
    "duration": 0,
    "start_time": "2025-02-26T09:05:31.671Z"
   },
   {
    "duration": 0,
    "start_time": "2025-02-26T09:05:31.672Z"
   },
   {
    "duration": 0,
    "start_time": "2025-02-26T09:05:31.673Z"
   },
   {
    "duration": 0,
    "start_time": "2025-02-26T09:05:31.674Z"
   },
   {
    "duration": 0,
    "start_time": "2025-02-26T09:05:31.675Z"
   },
   {
    "duration": 0,
    "start_time": "2025-02-26T09:05:31.676Z"
   },
   {
    "duration": 0,
    "start_time": "2025-02-26T09:05:31.677Z"
   },
   {
    "duration": 0,
    "start_time": "2025-02-26T09:05:31.714Z"
   },
   {
    "duration": 0,
    "start_time": "2025-02-26T09:05:31.715Z"
   },
   {
    "duration": 0,
    "start_time": "2025-02-26T09:05:31.716Z"
   },
   {
    "duration": 0,
    "start_time": "2025-02-26T09:05:31.717Z"
   },
   {
    "duration": 0,
    "start_time": "2025-02-26T09:05:31.718Z"
   },
   {
    "duration": 0,
    "start_time": "2025-02-26T09:05:31.720Z"
   },
   {
    "duration": 0,
    "start_time": "2025-02-26T09:05:31.721Z"
   },
   {
    "duration": 0,
    "start_time": "2025-02-26T09:05:31.722Z"
   },
   {
    "duration": 0,
    "start_time": "2025-02-26T09:05:31.723Z"
   },
   {
    "duration": 0,
    "start_time": "2025-02-26T09:05:31.724Z"
   },
   {
    "duration": 0,
    "start_time": "2025-02-26T09:05:31.725Z"
   },
   {
    "duration": 0,
    "start_time": "2025-02-26T09:05:31.726Z"
   },
   {
    "duration": 0,
    "start_time": "2025-02-26T09:05:31.727Z"
   },
   {
    "duration": 0,
    "start_time": "2025-02-26T09:05:31.729Z"
   },
   {
    "duration": 0,
    "start_time": "2025-02-26T09:05:31.730Z"
   },
   {
    "duration": 0,
    "start_time": "2025-02-26T09:05:31.731Z"
   },
   {
    "duration": 35,
    "start_time": "2025-02-26T09:10:46.197Z"
   },
   {
    "duration": 497,
    "start_time": "2025-02-26T09:10:53.975Z"
   },
   {
    "duration": 3,
    "start_time": "2025-02-26T09:10:54.474Z"
   },
   {
    "duration": 303,
    "start_time": "2025-02-26T09:10:54.478Z"
   },
   {
    "duration": 549,
    "start_time": "2025-02-26T09:10:54.782Z"
   },
   {
    "duration": 253,
    "start_time": "2025-02-26T09:10:55.334Z"
   },
   {
    "duration": 35,
    "start_time": "2025-02-26T09:10:55.589Z"
   },
   {
    "duration": 2,
    "start_time": "2025-02-26T09:10:55.626Z"
   },
   {
    "duration": 15,
    "start_time": "2025-02-26T09:10:55.630Z"
   },
   {
    "duration": 20,
    "start_time": "2025-02-26T09:10:55.646Z"
   },
   {
    "duration": 16,
    "start_time": "2025-02-26T09:10:55.668Z"
   },
   {
    "duration": 16,
    "start_time": "2025-02-26T09:10:55.686Z"
   },
   {
    "duration": 12,
    "start_time": "2025-02-26T09:10:55.704Z"
   },
   {
    "duration": 17,
    "start_time": "2025-02-26T09:10:55.718Z"
   },
   {
    "duration": 4,
    "start_time": "2025-02-26T09:10:55.738Z"
   },
   {
    "duration": 5,
    "start_time": "2025-02-26T09:10:55.743Z"
   },
   {
    "duration": 4,
    "start_time": "2025-02-26T09:10:55.750Z"
   },
   {
    "duration": 3,
    "start_time": "2025-02-26T09:10:55.756Z"
   },
   {
    "duration": 4,
    "start_time": "2025-02-26T09:10:55.761Z"
   },
   {
    "duration": 3,
    "start_time": "2025-02-26T09:10:55.766Z"
   },
   {
    "duration": 45,
    "start_time": "2025-02-26T09:10:55.771Z"
   },
   {
    "duration": 5,
    "start_time": "2025-02-26T09:10:55.818Z"
   },
   {
    "duration": 5,
    "start_time": "2025-02-26T09:10:55.825Z"
   },
   {
    "duration": 15,
    "start_time": "2025-02-26T09:10:55.832Z"
   },
   {
    "duration": 4,
    "start_time": "2025-02-26T09:10:55.849Z"
   },
   {
    "duration": 5,
    "start_time": "2025-02-26T09:10:55.854Z"
   },
   {
    "duration": 3,
    "start_time": "2025-02-26T09:10:55.861Z"
   },
   {
    "duration": 13,
    "start_time": "2025-02-26T09:10:55.865Z"
   },
   {
    "duration": 8,
    "start_time": "2025-02-26T09:10:55.914Z"
   },
   {
    "duration": 104,
    "start_time": "2025-02-26T09:10:55.924Z"
   },
   {
    "duration": 7,
    "start_time": "2025-02-26T09:10:56.029Z"
   },
   {
    "duration": 15,
    "start_time": "2025-02-26T09:10:56.038Z"
   },
   {
    "duration": 75,
    "start_time": "2025-02-26T09:10:56.055Z"
   },
   {
    "duration": 5,
    "start_time": "2025-02-26T09:10:56.131Z"
   },
   {
    "duration": 4,
    "start_time": "2025-02-26T09:10:56.137Z"
   },
   {
    "duration": 11,
    "start_time": "2025-02-26T09:10:56.143Z"
   },
   {
    "duration": 10,
    "start_time": "2025-02-26T09:10:56.156Z"
   },
   {
    "duration": 6,
    "start_time": "2025-02-26T09:10:56.168Z"
   },
   {
    "duration": 6,
    "start_time": "2025-02-26T09:10:56.176Z"
   },
   {
    "duration": 33,
    "start_time": "2025-02-26T09:10:56.185Z"
   },
   {
    "duration": 11,
    "start_time": "2025-02-26T09:10:56.220Z"
   },
   {
    "duration": 16,
    "start_time": "2025-02-26T09:10:56.237Z"
   },
   {
    "duration": 8,
    "start_time": "2025-02-26T09:10:56.255Z"
   },
   {
    "duration": 4,
    "start_time": "2025-02-26T09:10:56.265Z"
   },
   {
    "duration": 43,
    "start_time": "2025-02-26T09:10:56.271Z"
   },
   {
    "duration": 103,
    "start_time": "2025-02-26T09:10:56.316Z"
   },
   {
    "duration": 26,
    "start_time": "2025-02-26T09:10:56.421Z"
   },
   {
    "duration": 42,
    "start_time": "2025-02-26T09:10:56.449Z"
   },
   {
    "duration": 6,
    "start_time": "2025-02-26T09:10:56.493Z"
   },
   {
    "duration": 4,
    "start_time": "2025-02-26T09:10:56.513Z"
   },
   {
    "duration": 197,
    "start_time": "2025-02-26T09:10:56.519Z"
   },
   {
    "duration": 139,
    "start_time": "2025-02-26T09:10:56.718Z"
   },
   {
    "duration": 129,
    "start_time": "2025-02-26T09:10:56.859Z"
   },
   {
    "duration": 270,
    "start_time": "2025-02-26T09:10:56.990Z"
   },
   {
    "duration": 356,
    "start_time": "2025-02-26T09:10:57.262Z"
   },
   {
    "duration": 228,
    "start_time": "2025-02-26T09:10:57.620Z"
   },
   {
    "duration": 230,
    "start_time": "2025-02-26T09:10:57.850Z"
   },
   {
    "duration": 127,
    "start_time": "2025-02-26T09:10:58.081Z"
   },
   {
    "duration": 200,
    "start_time": "2025-02-26T09:10:58.213Z"
   },
   {
    "duration": 225,
    "start_time": "2025-02-26T09:10:58.415Z"
   },
   {
    "duration": 123,
    "start_time": "2025-02-26T09:10:58.642Z"
   },
   {
    "duration": 115,
    "start_time": "2025-02-26T09:10:58.766Z"
   },
   {
    "duration": 111,
    "start_time": "2025-02-26T09:10:58.883Z"
   },
   {
    "duration": 130,
    "start_time": "2025-02-26T09:10:58.995Z"
   },
   {
    "duration": 133,
    "start_time": "2025-02-26T09:10:59.127Z"
   },
   {
    "duration": 299,
    "start_time": "2025-02-26T09:10:59.262Z"
   },
   {
    "duration": 203,
    "start_time": "2025-02-26T09:10:59.563Z"
   },
   {
    "duration": 124,
    "start_time": "2025-02-26T09:10:59.768Z"
   },
   {
    "duration": 124,
    "start_time": "2025-02-26T09:10:59.894Z"
   },
   {
    "duration": 0,
    "start_time": "2025-02-26T09:11:00.021Z"
   },
   {
    "duration": 0,
    "start_time": "2025-02-26T09:11:00.022Z"
   },
   {
    "duration": 0,
    "start_time": "2025-02-26T09:11:00.023Z"
   },
   {
    "duration": 0,
    "start_time": "2025-02-26T09:11:00.025Z"
   },
   {
    "duration": 0,
    "start_time": "2025-02-26T09:11:00.026Z"
   },
   {
    "duration": 0,
    "start_time": "2025-02-26T09:11:00.028Z"
   },
   {
    "duration": 0,
    "start_time": "2025-02-26T09:11:00.029Z"
   },
   {
    "duration": 0,
    "start_time": "2025-02-26T09:11:00.031Z"
   },
   {
    "duration": 0,
    "start_time": "2025-02-26T09:11:00.032Z"
   },
   {
    "duration": 0,
    "start_time": "2025-02-26T09:11:00.033Z"
   },
   {
    "duration": 0,
    "start_time": "2025-02-26T09:11:00.035Z"
   },
   {
    "duration": 0,
    "start_time": "2025-02-26T09:11:00.036Z"
   },
   {
    "duration": 0,
    "start_time": "2025-02-26T09:11:00.038Z"
   },
   {
    "duration": 0,
    "start_time": "2025-02-26T09:11:00.039Z"
   },
   {
    "duration": 0,
    "start_time": "2025-02-26T09:11:00.041Z"
   },
   {
    "duration": 0,
    "start_time": "2025-02-26T09:11:00.043Z"
   },
   {
    "duration": 0,
    "start_time": "2025-02-26T09:11:00.044Z"
   },
   {
    "duration": 0,
    "start_time": "2025-02-26T09:11:00.045Z"
   },
   {
    "duration": 0,
    "start_time": "2025-02-26T09:11:00.046Z"
   },
   {
    "duration": 0,
    "start_time": "2025-02-26T09:11:00.048Z"
   },
   {
    "duration": 0,
    "start_time": "2025-02-26T09:11:00.049Z"
   },
   {
    "duration": 0,
    "start_time": "2025-02-26T09:11:00.050Z"
   },
   {
    "duration": 0,
    "start_time": "2025-02-26T09:11:00.051Z"
   },
   {
    "duration": 0,
    "start_time": "2025-02-26T09:11:00.052Z"
   },
   {
    "duration": 0,
    "start_time": "2025-02-26T09:11:00.054Z"
   },
   {
    "duration": 0,
    "start_time": "2025-02-26T09:11:00.055Z"
   },
   {
    "duration": 0,
    "start_time": "2025-02-26T09:11:00.056Z"
   },
   {
    "duration": 0,
    "start_time": "2025-02-26T09:11:00.114Z"
   },
   {
    "duration": 0,
    "start_time": "2025-02-26T09:11:00.115Z"
   },
   {
    "duration": 0,
    "start_time": "2025-02-26T09:11:00.116Z"
   },
   {
    "duration": 0,
    "start_time": "2025-02-26T09:11:00.118Z"
   },
   {
    "duration": 0,
    "start_time": "2025-02-26T09:11:00.119Z"
   },
   {
    "duration": 0,
    "start_time": "2025-02-26T09:11:00.120Z"
   },
   {
    "duration": 1,
    "start_time": "2025-02-26T09:11:00.121Z"
   },
   {
    "duration": 0,
    "start_time": "2025-02-26T09:11:00.123Z"
   },
   {
    "duration": 0,
    "start_time": "2025-02-26T09:11:00.124Z"
   },
   {
    "duration": 0,
    "start_time": "2025-02-26T09:11:00.126Z"
   },
   {
    "duration": 0,
    "start_time": "2025-02-26T09:11:00.127Z"
   },
   {
    "duration": 0,
    "start_time": "2025-02-26T09:11:00.128Z"
   },
   {
    "duration": 0,
    "start_time": "2025-02-26T09:11:00.130Z"
   },
   {
    "duration": 0,
    "start_time": "2025-02-26T09:11:00.131Z"
   },
   {
    "duration": 0,
    "start_time": "2025-02-26T09:11:00.132Z"
   },
   {
    "duration": 0,
    "start_time": "2025-02-26T09:11:00.136Z"
   },
   {
    "duration": 0,
    "start_time": "2025-02-26T09:11:00.138Z"
   },
   {
    "duration": 0,
    "start_time": "2025-02-26T09:11:00.139Z"
   },
   {
    "duration": 0,
    "start_time": "2025-02-26T09:11:00.141Z"
   },
   {
    "duration": 0,
    "start_time": "2025-02-26T09:11:00.142Z"
   },
   {
    "duration": 0,
    "start_time": "2025-02-26T09:11:00.142Z"
   },
   {
    "duration": 0,
    "start_time": "2025-02-26T09:11:00.143Z"
   },
   {
    "duration": 0,
    "start_time": "2025-02-26T09:11:00.145Z"
   },
   {
    "duration": 0,
    "start_time": "2025-02-26T09:11:00.146Z"
   },
   {
    "duration": 0,
    "start_time": "2025-02-26T09:11:00.148Z"
   },
   {
    "duration": 0,
    "start_time": "2025-02-26T09:11:00.149Z"
   },
   {
    "duration": 0,
    "start_time": "2025-02-26T09:11:00.150Z"
   },
   {
    "duration": 0,
    "start_time": "2025-02-26T09:11:00.151Z"
   },
   {
    "duration": 0,
    "start_time": "2025-02-26T09:11:00.214Z"
   },
   {
    "duration": 0,
    "start_time": "2025-02-26T09:11:00.215Z"
   },
   {
    "duration": 0,
    "start_time": "2025-02-26T09:11:00.216Z"
   },
   {
    "duration": 0,
    "start_time": "2025-02-26T09:11:00.217Z"
   },
   {
    "duration": 0,
    "start_time": "2025-02-26T09:11:00.218Z"
   },
   {
    "duration": 0,
    "start_time": "2025-02-26T09:11:00.220Z"
   },
   {
    "duration": 0,
    "start_time": "2025-02-26T09:11:00.221Z"
   },
   {
    "duration": 0,
    "start_time": "2025-02-26T09:11:00.222Z"
   },
   {
    "duration": 0,
    "start_time": "2025-02-26T09:11:00.224Z"
   },
   {
    "duration": 0,
    "start_time": "2025-02-26T09:11:00.225Z"
   },
   {
    "duration": 0,
    "start_time": "2025-02-26T09:11:00.226Z"
   },
   {
    "duration": 0,
    "start_time": "2025-02-26T09:11:00.227Z"
   },
   {
    "duration": 0,
    "start_time": "2025-02-26T09:11:00.229Z"
   },
   {
    "duration": 0,
    "start_time": "2025-02-26T09:11:00.230Z"
   },
   {
    "duration": 0,
    "start_time": "2025-02-26T09:11:00.231Z"
   },
   {
    "duration": 0,
    "start_time": "2025-02-26T09:11:00.233Z"
   },
   {
    "duration": 0,
    "start_time": "2025-02-26T09:11:00.234Z"
   },
   {
    "duration": 0,
    "start_time": "2025-02-26T09:11:00.236Z"
   },
   {
    "duration": 0,
    "start_time": "2025-02-26T09:11:00.237Z"
   },
   {
    "duration": 0,
    "start_time": "2025-02-26T09:11:00.238Z"
   },
   {
    "duration": 0,
    "start_time": "2025-02-26T09:11:00.240Z"
   },
   {
    "duration": 0,
    "start_time": "2025-02-26T09:11:00.241Z"
   },
   {
    "duration": 4,
    "start_time": "2025-02-26T09:12:32.380Z"
   },
   {
    "duration": 11,
    "start_time": "2025-02-26T09:12:34.237Z"
   },
   {
    "duration": 3,
    "start_time": "2025-02-26T09:13:10.429Z"
   },
   {
    "duration": 259,
    "start_time": "2025-02-26T09:13:11.396Z"
   },
   {
    "duration": 282,
    "start_time": "2025-02-26T09:13:14.353Z"
   },
   {
    "duration": 12,
    "start_time": "2025-02-26T09:13:15.119Z"
   },
   {
    "duration": 252,
    "start_time": "2025-02-26T09:13:15.909Z"
   },
   {
    "duration": 277,
    "start_time": "2025-02-26T09:13:16.519Z"
   },
   {
    "duration": 261,
    "start_time": "2025-02-26T09:13:17.258Z"
   },
   {
    "duration": 201,
    "start_time": "2025-02-26T09:13:17.863Z"
   },
   {
    "duration": 4,
    "start_time": "2025-02-26T09:13:18.446Z"
   },
   {
    "duration": 4,
    "start_time": "2025-02-26T09:13:23.521Z"
   },
   {
    "duration": 6,
    "start_time": "2025-02-26T09:13:24.289Z"
   },
   {
    "duration": 5,
    "start_time": "2025-02-26T09:13:25.136Z"
   },
   {
    "duration": 7,
    "start_time": "2025-02-26T09:13:25.939Z"
   },
   {
    "duration": 271,
    "start_time": "2025-02-26T09:13:26.743Z"
   },
   {
    "duration": 3,
    "start_time": "2025-02-26T09:13:58.929Z"
   },
   {
    "duration": 3,
    "start_time": "2025-02-26T09:14:00.421Z"
   },
   {
    "duration": 5,
    "start_time": "2025-02-26T09:14:02.174Z"
   },
   {
    "duration": 12,
    "start_time": "2025-02-26T09:14:05.866Z"
   },
   {
    "duration": 7711,
    "start_time": "2025-02-26T09:17:26.363Z"
   },
   {
    "duration": 406,
    "start_time": "2025-02-26T09:17:34.077Z"
   },
   {
    "duration": 3,
    "start_time": "2025-02-26T09:17:34.485Z"
   },
   {
    "duration": 276,
    "start_time": "2025-02-26T09:17:34.491Z"
   },
   {
    "duration": 581,
    "start_time": "2025-02-26T09:17:34.768Z"
   },
   {
    "duration": 56,
    "start_time": "2025-02-26T09:17:35.351Z"
   },
   {
    "duration": 67,
    "start_time": "2025-02-26T09:17:35.409Z"
   },
   {
    "duration": 3,
    "start_time": "2025-02-26T09:17:35.478Z"
   },
   {
    "duration": 41,
    "start_time": "2025-02-26T09:17:35.483Z"
   },
   {
    "duration": 29,
    "start_time": "2025-02-26T09:17:35.527Z"
   },
   {
    "duration": 16,
    "start_time": "2025-02-26T09:17:35.558Z"
   },
   {
    "duration": 15,
    "start_time": "2025-02-26T09:17:35.576Z"
   },
   {
    "duration": 11,
    "start_time": "2025-02-26T09:17:35.593Z"
   },
   {
    "duration": 36,
    "start_time": "2025-02-26T09:17:35.606Z"
   },
   {
    "duration": 4,
    "start_time": "2025-02-26T09:17:35.643Z"
   },
   {
    "duration": 21,
    "start_time": "2025-02-26T09:17:35.649Z"
   },
   {
    "duration": 13,
    "start_time": "2025-02-26T09:17:35.671Z"
   },
   {
    "duration": 14,
    "start_time": "2025-02-26T09:17:35.686Z"
   },
   {
    "duration": 31,
    "start_time": "2025-02-26T09:17:35.701Z"
   },
   {
    "duration": 4,
    "start_time": "2025-02-26T09:17:35.734Z"
   },
   {
    "duration": 7,
    "start_time": "2025-02-26T09:17:35.740Z"
   },
   {
    "duration": 25,
    "start_time": "2025-02-26T09:17:35.748Z"
   },
   {
    "duration": 15,
    "start_time": "2025-02-26T09:17:35.774Z"
   },
   {
    "duration": 11,
    "start_time": "2025-02-26T09:17:35.790Z"
   },
   {
    "duration": 32,
    "start_time": "2025-02-26T09:17:35.803Z"
   },
   {
    "duration": 5,
    "start_time": "2025-02-26T09:17:35.837Z"
   },
   {
    "duration": 3,
    "start_time": "2025-02-26T09:17:35.843Z"
   },
   {
    "duration": 17,
    "start_time": "2025-02-26T09:17:35.851Z"
   },
   {
    "duration": 6,
    "start_time": "2025-02-26T09:17:35.869Z"
   },
   {
    "duration": 16,
    "start_time": "2025-02-26T09:17:35.877Z"
   },
   {
    "duration": 28,
    "start_time": "2025-02-26T09:17:35.894Z"
   },
   {
    "duration": 153,
    "start_time": "2025-02-26T09:17:35.924Z"
   },
   {
    "duration": 90,
    "start_time": "2025-02-26T09:17:36.078Z"
   },
   {
    "duration": 4,
    "start_time": "2025-02-26T09:17:36.170Z"
   },
   {
    "duration": 29,
    "start_time": "2025-02-26T09:17:36.175Z"
   },
   {
    "duration": 13,
    "start_time": "2025-02-26T09:17:36.206Z"
   },
   {
    "duration": 11,
    "start_time": "2025-02-26T09:17:36.221Z"
   },
   {
    "duration": 4,
    "start_time": "2025-02-26T09:17:36.234Z"
   },
   {
    "duration": 5,
    "start_time": "2025-02-26T09:17:36.240Z"
   },
   {
    "duration": 6,
    "start_time": "2025-02-26T09:17:36.246Z"
   },
   {
    "duration": 9,
    "start_time": "2025-02-26T09:17:36.254Z"
   },
   {
    "duration": 11,
    "start_time": "2025-02-26T09:17:36.265Z"
   },
   {
    "duration": 37,
    "start_time": "2025-02-26T09:17:36.277Z"
   },
   {
    "duration": 4,
    "start_time": "2025-02-26T09:17:36.316Z"
   },
   {
    "duration": 102,
    "start_time": "2025-02-26T09:17:36.322Z"
   },
   {
    "duration": 10,
    "start_time": "2025-02-26T09:17:36.426Z"
   },
   {
    "duration": 11,
    "start_time": "2025-02-26T09:17:36.437Z"
   },
   {
    "duration": 41,
    "start_time": "2025-02-26T09:17:36.449Z"
   },
   {
    "duration": 5,
    "start_time": "2025-02-26T09:17:36.491Z"
   },
   {
    "duration": 19,
    "start_time": "2025-02-26T09:17:36.497Z"
   },
   {
    "duration": 161,
    "start_time": "2025-02-26T09:17:36.520Z"
   },
   {
    "duration": 132,
    "start_time": "2025-02-26T09:17:36.683Z"
   },
   {
    "duration": 116,
    "start_time": "2025-02-26T09:17:36.817Z"
   },
   {
    "duration": 258,
    "start_time": "2025-02-26T09:17:36.935Z"
   },
   {
    "duration": 312,
    "start_time": "2025-02-26T09:17:37.195Z"
   },
   {
    "duration": 217,
    "start_time": "2025-02-26T09:17:37.514Z"
   },
   {
    "duration": 212,
    "start_time": "2025-02-26T09:17:37.733Z"
   },
   {
    "duration": 125,
    "start_time": "2025-02-26T09:17:37.947Z"
   },
   {
    "duration": 200,
    "start_time": "2025-02-26T09:17:38.074Z"
   },
   {
    "duration": 205,
    "start_time": "2025-02-26T09:17:38.276Z"
   },
   {
    "duration": 115,
    "start_time": "2025-02-26T09:17:38.483Z"
   },
   {
    "duration": 102,
    "start_time": "2025-02-26T09:17:38.600Z"
   },
   {
    "duration": 118,
    "start_time": "2025-02-26T09:17:38.704Z"
   },
   {
    "duration": 114,
    "start_time": "2025-02-26T09:17:38.823Z"
   },
   {
    "duration": 139,
    "start_time": "2025-02-26T09:17:38.939Z"
   },
   {
    "duration": 301,
    "start_time": "2025-02-26T09:17:39.080Z"
   },
   {
    "duration": 202,
    "start_time": "2025-02-26T09:17:39.383Z"
   },
   {
    "duration": 116,
    "start_time": "2025-02-26T09:17:39.587Z"
   },
   {
    "duration": 5,
    "start_time": "2025-02-26T09:17:39.713Z"
   },
   {
    "duration": 9,
    "start_time": "2025-02-26T09:17:39.719Z"
   },
   {
    "duration": 4,
    "start_time": "2025-02-26T09:17:39.730Z"
   },
   {
    "duration": 267,
    "start_time": "2025-02-26T09:17:39.735Z"
   },
   {
    "duration": 269,
    "start_time": "2025-02-26T09:17:40.004Z"
   },
   {
    "duration": 11,
    "start_time": "2025-02-26T09:17:40.275Z"
   },
   {
    "duration": 252,
    "start_time": "2025-02-26T09:17:40.288Z"
   },
   {
    "duration": 249,
    "start_time": "2025-02-26T09:17:40.542Z"
   },
   {
    "duration": 276,
    "start_time": "2025-02-26T09:17:40.793Z"
   },
   {
    "duration": 221,
    "start_time": "2025-02-26T09:17:41.071Z"
   },
   {
    "duration": 4,
    "start_time": "2025-02-26T09:17:41.293Z"
   },
   {
    "duration": 18,
    "start_time": "2025-02-26T09:17:41.299Z"
   },
   {
    "duration": 6,
    "start_time": "2025-02-26T09:17:41.318Z"
   },
   {
    "duration": 4,
    "start_time": "2025-02-26T09:17:41.332Z"
   },
   {
    "duration": 7,
    "start_time": "2025-02-26T09:17:41.337Z"
   },
   {
    "duration": 258,
    "start_time": "2025-02-26T09:17:41.346Z"
   },
   {
    "duration": 3,
    "start_time": "2025-02-26T09:17:41.613Z"
   },
   {
    "duration": 4,
    "start_time": "2025-02-26T09:17:41.618Z"
   },
   {
    "duration": 4,
    "start_time": "2025-02-26T09:17:41.624Z"
   },
   {
    "duration": 10,
    "start_time": "2025-02-26T09:17:41.630Z"
   },
   {
    "duration": 4,
    "start_time": "2025-02-26T09:17:41.642Z"
   },
   {
    "duration": 8,
    "start_time": "2025-02-26T09:17:41.648Z"
   },
   {
    "duration": 9,
    "start_time": "2025-02-26T09:17:41.658Z"
   },
   {
    "duration": 2,
    "start_time": "2025-02-26T09:17:41.669Z"
   },
   {
    "duration": 9,
    "start_time": "2025-02-26T09:17:41.672Z"
   },
   {
    "duration": 33,
    "start_time": "2025-02-26T09:17:41.682Z"
   },
   {
    "duration": 3,
    "start_time": "2025-02-26T09:17:41.717Z"
   },
   {
    "duration": 7,
    "start_time": "2025-02-26T09:17:41.722Z"
   },
   {
    "duration": 9,
    "start_time": "2025-02-26T09:17:41.731Z"
   },
   {
    "duration": 276,
    "start_time": "2025-02-26T09:17:41.742Z"
   },
   {
    "duration": 5,
    "start_time": "2025-02-26T09:17:42.020Z"
   },
   {
    "duration": 40,
    "start_time": "2025-02-26T09:17:42.027Z"
   },
   {
    "duration": 3,
    "start_time": "2025-02-26T09:17:42.069Z"
   },
   {
    "duration": 6,
    "start_time": "2025-02-26T09:17:42.074Z"
   },
   {
    "duration": 22,
    "start_time": "2025-02-26T09:17:42.081Z"
   },
   {
    "duration": 58,
    "start_time": "2025-02-26T09:17:42.105Z"
   },
   {
    "duration": 6,
    "start_time": "2025-02-26T09:17:42.164Z"
   },
   {
    "duration": 6,
    "start_time": "2025-02-26T09:17:42.172Z"
   },
   {
    "duration": 15,
    "start_time": "2025-02-26T09:17:42.179Z"
   },
   {
    "duration": 5,
    "start_time": "2025-02-26T09:17:42.196Z"
   },
   {
    "duration": 7,
    "start_time": "2025-02-26T09:17:42.203Z"
   },
   {
    "duration": 3,
    "start_time": "2025-02-26T09:17:42.212Z"
   },
   {
    "duration": 6,
    "start_time": "2025-02-26T09:17:42.217Z"
   },
   {
    "duration": 4,
    "start_time": "2025-02-26T09:17:42.224Z"
   },
   {
    "duration": 385,
    "start_time": "2025-02-26T09:17:42.230Z"
   },
   {
    "duration": 14,
    "start_time": "2025-02-26T09:17:42.617Z"
   },
   {
    "duration": 9,
    "start_time": "2025-02-26T09:17:42.633Z"
   },
   {
    "duration": 12,
    "start_time": "2025-02-26T09:17:42.644Z"
   },
   {
    "duration": 27,
    "start_time": "2025-02-26T09:17:42.658Z"
   },
   {
    "duration": 26,
    "start_time": "2025-02-26T09:17:42.713Z"
   },
   {
    "duration": 255,
    "start_time": "2025-02-26T09:17:42.741Z"
   },
   {
    "duration": 20,
    "start_time": "2025-02-26T09:17:42.998Z"
   },
   {
    "duration": 11,
    "start_time": "2025-02-26T09:17:43.021Z"
   },
   {
    "duration": 5,
    "start_time": "2025-02-26T09:17:43.034Z"
   },
   {
    "duration": 6,
    "start_time": "2025-02-26T09:17:43.041Z"
   },
   {
    "duration": 3,
    "start_time": "2025-02-26T09:17:43.049Z"
   },
   {
    "duration": 7,
    "start_time": "2025-02-26T09:17:43.054Z"
   },
   {
    "duration": 57,
    "start_time": "2025-02-26T09:17:43.063Z"
   },
   {
    "duration": 7,
    "start_time": "2025-02-26T09:17:43.122Z"
   },
   {
    "duration": 19,
    "start_time": "2025-02-26T09:17:43.131Z"
   },
   {
    "duration": 5,
    "start_time": "2025-02-26T09:17:43.156Z"
   },
   {
    "duration": 4,
    "start_time": "2025-02-26T09:17:43.164Z"
   },
   {
    "duration": 50,
    "start_time": "2025-02-26T09:17:43.170Z"
   },
   {
    "duration": 90,
    "start_time": "2025-02-26T09:17:43.222Z"
   },
   {
    "duration": 6,
    "start_time": "2025-02-26T09:17:43.313Z"
   },
   {
    "duration": 11,
    "start_time": "2025-02-26T09:17:43.321Z"
   },
   {
    "duration": 11,
    "start_time": "2025-02-26T09:17:43.334Z"
   },
   {
    "duration": 4,
    "start_time": "2025-02-26T09:17:43.347Z"
   },
   {
    "duration": 24,
    "start_time": "2025-02-26T09:17:43.353Z"
   },
   {
    "duration": 8,
    "start_time": "2025-02-26T09:17:43.380Z"
   },
   {
    "duration": 63,
    "start_time": "2025-02-26T09:17:43.389Z"
   },
   {
    "duration": 65,
    "start_time": "2025-02-26T09:17:43.454Z"
   },
   {
    "duration": 274,
    "start_time": "2025-02-26T09:17:43.520Z"
   },
   {
    "duration": 23,
    "start_time": "2025-02-26T09:17:43.796Z"
   },
   {
    "duration": 4,
    "start_time": "2025-02-26T09:17:43.821Z"
   },
   {
    "duration": 19,
    "start_time": "2025-02-26T09:17:43.826Z"
   },
   {
    "duration": 3,
    "start_time": "2025-02-26T09:17:43.847Z"
   },
   {
    "duration": 23,
    "start_time": "2025-02-26T09:17:43.852Z"
   },
   {
    "duration": 84,
    "start_time": "2025-02-26T16:13:17.503Z"
   },
   {
    "duration": 45,
    "start_time": "2025-02-26T16:13:29.646Z"
   },
   {
    "duration": 227,
    "start_time": "2025-02-26T16:13:47.295Z"
   },
   {
    "duration": 493,
    "start_time": "2025-02-26T16:13:47.524Z"
   },
   {
    "duration": 793,
    "start_time": "2025-02-26T16:13:48.019Z"
   },
   {
    "duration": 230,
    "start_time": "2025-02-26T16:13:48.814Z"
   },
   {
    "duration": 39,
    "start_time": "2025-02-26T16:13:49.045Z"
   },
   {
    "duration": 3,
    "start_time": "2025-02-26T16:13:49.085Z"
   },
   {
    "duration": 81,
    "start_time": "2025-02-26T16:13:49.090Z"
   },
   {
    "duration": 134,
    "start_time": "2025-02-26T16:13:49.173Z"
   },
   {
    "duration": 0,
    "start_time": "2025-02-26T16:13:49.314Z"
   },
   {
    "duration": 0,
    "start_time": "2025-02-26T16:13:49.315Z"
   },
   {
    "duration": 0,
    "start_time": "2025-02-26T16:13:49.316Z"
   },
   {
    "duration": 0,
    "start_time": "2025-02-26T16:13:49.317Z"
   },
   {
    "duration": 0,
    "start_time": "2025-02-26T16:13:49.319Z"
   },
   {
    "duration": 0,
    "start_time": "2025-02-26T16:13:49.320Z"
   },
   {
    "duration": 0,
    "start_time": "2025-02-26T16:13:49.321Z"
   },
   {
    "duration": 0,
    "start_time": "2025-02-26T16:13:49.322Z"
   },
   {
    "duration": 0,
    "start_time": "2025-02-26T16:13:49.323Z"
   },
   {
    "duration": 0,
    "start_time": "2025-02-26T16:13:49.324Z"
   },
   {
    "duration": 0,
    "start_time": "2025-02-26T16:13:49.325Z"
   },
   {
    "duration": 0,
    "start_time": "2025-02-26T16:13:49.326Z"
   },
   {
    "duration": 0,
    "start_time": "2025-02-26T16:13:49.327Z"
   },
   {
    "duration": 0,
    "start_time": "2025-02-26T16:13:49.328Z"
   },
   {
    "duration": 0,
    "start_time": "2025-02-26T16:13:49.329Z"
   },
   {
    "duration": 0,
    "start_time": "2025-02-26T16:13:49.330Z"
   },
   {
    "duration": 0,
    "start_time": "2025-02-26T16:13:49.331Z"
   },
   {
    "duration": 0,
    "start_time": "2025-02-26T16:13:49.356Z"
   },
   {
    "duration": 0,
    "start_time": "2025-02-26T16:13:49.356Z"
   },
   {
    "duration": 0,
    "start_time": "2025-02-26T16:13:49.358Z"
   },
   {
    "duration": 0,
    "start_time": "2025-02-26T16:13:49.359Z"
   },
   {
    "duration": 0,
    "start_time": "2025-02-26T16:13:49.360Z"
   },
   {
    "duration": 0,
    "start_time": "2025-02-26T16:13:49.361Z"
   },
   {
    "duration": 0,
    "start_time": "2025-02-26T16:13:49.362Z"
   },
   {
    "duration": 0,
    "start_time": "2025-02-26T16:13:49.363Z"
   },
   {
    "duration": 0,
    "start_time": "2025-02-26T16:13:49.364Z"
   },
   {
    "duration": 0,
    "start_time": "2025-02-26T16:13:49.365Z"
   },
   {
    "duration": 0,
    "start_time": "2025-02-26T16:13:49.366Z"
   },
   {
    "duration": 0,
    "start_time": "2025-02-26T16:13:49.367Z"
   },
   {
    "duration": 0,
    "start_time": "2025-02-26T16:13:49.368Z"
   },
   {
    "duration": 0,
    "start_time": "2025-02-26T16:13:49.368Z"
   },
   {
    "duration": 0,
    "start_time": "2025-02-26T16:13:49.369Z"
   },
   {
    "duration": 0,
    "start_time": "2025-02-26T16:13:49.370Z"
   },
   {
    "duration": 0,
    "start_time": "2025-02-26T16:13:49.371Z"
   },
   {
    "duration": 0,
    "start_time": "2025-02-26T16:13:49.373Z"
   },
   {
    "duration": 0,
    "start_time": "2025-02-26T16:13:49.374Z"
   },
   {
    "duration": 0,
    "start_time": "2025-02-26T16:13:49.375Z"
   },
   {
    "duration": 0,
    "start_time": "2025-02-26T16:13:49.376Z"
   },
   {
    "duration": 0,
    "start_time": "2025-02-26T16:13:49.377Z"
   },
   {
    "duration": 0,
    "start_time": "2025-02-26T16:13:49.377Z"
   },
   {
    "duration": 0,
    "start_time": "2025-02-26T16:13:49.378Z"
   },
   {
    "duration": 0,
    "start_time": "2025-02-26T16:13:49.379Z"
   },
   {
    "duration": 0,
    "start_time": "2025-02-26T16:13:49.380Z"
   },
   {
    "duration": 0,
    "start_time": "2025-02-26T16:13:49.381Z"
   },
   {
    "duration": 0,
    "start_time": "2025-02-26T16:13:49.382Z"
   },
   {
    "duration": 0,
    "start_time": "2025-02-26T16:13:49.383Z"
   },
   {
    "duration": 0,
    "start_time": "2025-02-26T16:13:49.384Z"
   },
   {
    "duration": 0,
    "start_time": "2025-02-26T16:13:49.385Z"
   },
   {
    "duration": 0,
    "start_time": "2025-02-26T16:13:49.386Z"
   },
   {
    "duration": 0,
    "start_time": "2025-02-26T16:13:49.387Z"
   },
   {
    "duration": 0,
    "start_time": "2025-02-26T16:13:49.388Z"
   },
   {
    "duration": 0,
    "start_time": "2025-02-26T16:13:49.389Z"
   },
   {
    "duration": 0,
    "start_time": "2025-02-26T16:13:49.391Z"
   },
   {
    "duration": 0,
    "start_time": "2025-02-26T16:13:49.392Z"
   },
   {
    "duration": 0,
    "start_time": "2025-02-26T16:13:49.393Z"
   },
   {
    "duration": 0,
    "start_time": "2025-02-26T16:13:49.454Z"
   },
   {
    "duration": 0,
    "start_time": "2025-02-26T16:13:49.456Z"
   },
   {
    "duration": 0,
    "start_time": "2025-02-26T16:13:49.457Z"
   },
   {
    "duration": 0,
    "start_time": "2025-02-26T16:13:49.459Z"
   },
   {
    "duration": 0,
    "start_time": "2025-02-26T16:13:49.460Z"
   },
   {
    "duration": 0,
    "start_time": "2025-02-26T16:13:49.461Z"
   },
   {
    "duration": 0,
    "start_time": "2025-02-26T16:13:49.463Z"
   },
   {
    "duration": 0,
    "start_time": "2025-02-26T16:13:49.464Z"
   },
   {
    "duration": 0,
    "start_time": "2025-02-26T16:13:49.465Z"
   },
   {
    "duration": 0,
    "start_time": "2025-02-26T16:13:49.466Z"
   },
   {
    "duration": 0,
    "start_time": "2025-02-26T16:13:49.468Z"
   },
   {
    "duration": 0,
    "start_time": "2025-02-26T16:13:49.469Z"
   },
   {
    "duration": 0,
    "start_time": "2025-02-26T16:13:49.470Z"
   },
   {
    "duration": 0,
    "start_time": "2025-02-26T16:13:49.472Z"
   },
   {
    "duration": 0,
    "start_time": "2025-02-26T16:13:49.473Z"
   },
   {
    "duration": 0,
    "start_time": "2025-02-26T16:13:49.474Z"
   },
   {
    "duration": 0,
    "start_time": "2025-02-26T16:13:49.475Z"
   },
   {
    "duration": 0,
    "start_time": "2025-02-26T16:13:49.476Z"
   },
   {
    "duration": 0,
    "start_time": "2025-02-26T16:13:49.477Z"
   },
   {
    "duration": 0,
    "start_time": "2025-02-26T16:13:49.479Z"
   },
   {
    "duration": 0,
    "start_time": "2025-02-26T16:13:49.480Z"
   },
   {
    "duration": 0,
    "start_time": "2025-02-26T16:13:49.481Z"
   },
   {
    "duration": 0,
    "start_time": "2025-02-26T16:13:49.482Z"
   },
   {
    "duration": 0,
    "start_time": "2025-02-26T16:13:49.483Z"
   },
   {
    "duration": 0,
    "start_time": "2025-02-26T16:13:49.484Z"
   },
   {
    "duration": 0,
    "start_time": "2025-02-26T16:13:49.485Z"
   },
   {
    "duration": 0,
    "start_time": "2025-02-26T16:13:49.486Z"
   },
   {
    "duration": 0,
    "start_time": "2025-02-26T16:13:49.487Z"
   },
   {
    "duration": 0,
    "start_time": "2025-02-26T16:13:49.488Z"
   },
   {
    "duration": 0,
    "start_time": "2025-02-26T16:13:49.490Z"
   },
   {
    "duration": 0,
    "start_time": "2025-02-26T16:13:49.491Z"
   },
   {
    "duration": 0,
    "start_time": "2025-02-26T16:13:49.555Z"
   },
   {
    "duration": 0,
    "start_time": "2025-02-26T16:13:49.556Z"
   },
   {
    "duration": 0,
    "start_time": "2025-02-26T16:13:49.558Z"
   },
   {
    "duration": 0,
    "start_time": "2025-02-26T16:13:49.559Z"
   },
   {
    "duration": 0,
    "start_time": "2025-02-26T16:13:49.561Z"
   },
   {
    "duration": 0,
    "start_time": "2025-02-26T16:13:49.562Z"
   },
   {
    "duration": 0,
    "start_time": "2025-02-26T16:13:49.564Z"
   },
   {
    "duration": 0,
    "start_time": "2025-02-26T16:13:49.565Z"
   },
   {
    "duration": 0,
    "start_time": "2025-02-26T16:13:49.566Z"
   },
   {
    "duration": 0,
    "start_time": "2025-02-26T16:13:49.567Z"
   },
   {
    "duration": 0,
    "start_time": "2025-02-26T16:13:49.568Z"
   },
   {
    "duration": 0,
    "start_time": "2025-02-26T16:13:49.569Z"
   },
   {
    "duration": 0,
    "start_time": "2025-02-26T16:13:49.571Z"
   },
   {
    "duration": 0,
    "start_time": "2025-02-26T16:13:49.572Z"
   },
   {
    "duration": 0,
    "start_time": "2025-02-26T16:13:49.573Z"
   },
   {
    "duration": 0,
    "start_time": "2025-02-26T16:13:49.574Z"
   },
   {
    "duration": 0,
    "start_time": "2025-02-26T16:13:49.575Z"
   },
   {
    "duration": 0,
    "start_time": "2025-02-26T16:13:49.576Z"
   },
   {
    "duration": 0,
    "start_time": "2025-02-26T16:13:49.577Z"
   },
   {
    "duration": 0,
    "start_time": "2025-02-26T16:13:49.578Z"
   },
   {
    "duration": 0,
    "start_time": "2025-02-26T16:13:49.579Z"
   },
   {
    "duration": 0,
    "start_time": "2025-02-26T16:13:49.580Z"
   },
   {
    "duration": 0,
    "start_time": "2025-02-26T16:13:49.582Z"
   },
   {
    "duration": 0,
    "start_time": "2025-02-26T16:13:49.582Z"
   },
   {
    "duration": 0,
    "start_time": "2025-02-26T16:13:49.583Z"
   },
   {
    "duration": 0,
    "start_time": "2025-02-26T16:13:49.584Z"
   },
   {
    "duration": 0,
    "start_time": "2025-02-26T16:13:49.585Z"
   },
   {
    "duration": 0,
    "start_time": "2025-02-26T16:13:49.586Z"
   },
   {
    "duration": 1,
    "start_time": "2025-02-26T16:13:49.587Z"
   },
   {
    "duration": 0,
    "start_time": "2025-02-26T16:13:49.589Z"
   },
   {
    "duration": 0,
    "start_time": "2025-02-26T16:13:49.589Z"
   },
   {
    "duration": 0,
    "start_time": "2025-02-26T16:13:49.591Z"
   },
   {
    "duration": 0,
    "start_time": "2025-02-26T16:13:49.655Z"
   },
   {
    "duration": 0,
    "start_time": "2025-02-26T16:13:49.656Z"
   },
   {
    "duration": 0,
    "start_time": "2025-02-26T16:13:49.657Z"
   },
   {
    "duration": 0,
    "start_time": "2025-02-26T16:13:49.659Z"
   },
   {
    "duration": 0,
    "start_time": "2025-02-26T16:13:49.660Z"
   },
   {
    "duration": 0,
    "start_time": "2025-02-26T16:13:49.661Z"
   },
   {
    "duration": 0,
    "start_time": "2025-02-26T16:13:49.663Z"
   },
   {
    "duration": 0,
    "start_time": "2025-02-26T16:13:49.664Z"
   },
   {
    "duration": 0,
    "start_time": "2025-02-26T16:13:49.665Z"
   },
   {
    "duration": 0,
    "start_time": "2025-02-26T16:13:49.666Z"
   },
   {
    "duration": 0,
    "start_time": "2025-02-26T16:13:49.667Z"
   },
   {
    "duration": 0,
    "start_time": "2025-02-26T16:13:49.668Z"
   },
   {
    "duration": 0,
    "start_time": "2025-02-26T16:13:49.669Z"
   },
   {
    "duration": 0,
    "start_time": "2025-02-26T16:13:49.670Z"
   },
   {
    "duration": 0,
    "start_time": "2025-02-26T16:13:49.671Z"
   },
   {
    "duration": 0,
    "start_time": "2025-02-26T16:13:49.672Z"
   },
   {
    "duration": 0,
    "start_time": "2025-02-26T16:13:49.673Z"
   },
   {
    "duration": 0,
    "start_time": "2025-02-26T16:13:49.674Z"
   },
   {
    "duration": 3,
    "start_time": "2025-02-26T16:19:31.420Z"
   },
   {
    "duration": 81,
    "start_time": "2025-02-26T16:20:07.479Z"
   },
   {
    "duration": 10,
    "start_time": "2025-02-26T16:20:19.466Z"
   },
   {
    "duration": 9,
    "start_time": "2025-02-26T16:22:17.727Z"
   },
   {
    "duration": 3,
    "start_time": "2025-02-26T16:22:24.405Z"
   },
   {
    "duration": 10,
    "start_time": "2025-02-26T16:22:26.673Z"
   },
   {
    "duration": 74,
    "start_time": "2025-02-26T16:22:58.422Z"
   },
   {
    "duration": 3,
    "start_time": "2025-02-26T16:23:05.178Z"
   },
   {
    "duration": 20,
    "start_time": "2025-02-26T16:23:07.262Z"
   },
   {
    "duration": 71,
    "start_time": "2025-02-26T16:24:07.866Z"
   },
   {
    "duration": 78,
    "start_time": "2025-02-26T16:24:18.547Z"
   },
   {
    "duration": 17,
    "start_time": "2025-02-26T16:24:32.095Z"
   },
   {
    "duration": 16,
    "start_time": "2025-02-26T16:25:02.143Z"
   },
   {
    "duration": 18,
    "start_time": "2025-02-26T16:25:35.922Z"
   }
  ],
  "kernelspec": {
   "display_name": "Python 3 (ipykernel)",
   "language": "python",
   "name": "python3"
  },
  "language_info": {
   "codemirror_mode": {
    "name": "ipython",
    "version": 3
   },
   "file_extension": ".py",
   "mimetype": "text/x-python",
   "name": "python",
   "nbconvert_exporter": "python",
   "pygments_lexer": "ipython3",
   "version": "3.12.2"
  },
  "toc": {
   "base_numbering": 1,
   "nav_menu": {},
   "number_sections": true,
   "sideBar": true,
   "skip_h1_title": true,
   "title_cell": "Table of Contents",
   "title_sidebar": "Contents",
   "toc_cell": false,
   "toc_position": {},
   "toc_section_display": true,
   "toc_window_display": false
  }
 },
 "nbformat": 4,
 "nbformat_minor": 5
}
